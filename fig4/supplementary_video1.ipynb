{
 "cells": [
  {
   "cell_type": "code",
   "execution_count": 1,
   "metadata": {},
   "outputs": [],
   "source": [
    "from neo.core import SpikeTrain\n",
    "from tqdm import tqdm\n",
    "import elephant as eph\n",
    "import imageio\n",
    "import matplotlib as mpl\n",
    "import matplotlib.gridspec as gridspec\n",
    "import matplotlib.pyplot as plt\n",
    "import numpy as np\n",
    "import os\n",
    "import quantities as q\n",
    "from subprocess import call\n",
    "import re \n",
    "\n",
    "%config Completer.use_jedi = False\n",
    "\n",
    "mpl.rcParams.update({'font.size': 15})"
   ]
  },
  {
   "cell_type": "markdown",
   "metadata": {},
   "source": [
    "# Community Dynamics Animation (Supplementary Video)"
   ]
  },
  {
   "cell_type": "code",
   "execution_count": 2,
   "metadata": {},
   "outputs": [],
   "source": [
    "def eval_spikes(graphno):\n",
    "    mat = np.loadtxt(f'../modules/networks/matrix_{graphno}.csv',delimiter=\",\")\n",
    "    module = np.loadtxt(f'../modules/networks/matrix_{graphno}_modules.csv')\n",
    "    order = np.argsort(module)\n",
    "\n",
    "    all_events = []\n",
    "    for pertseed in [59428,13674,84932,72957,85036]:\n",
    "        events = np.load(f\"../data/30LN/LN30_events_{graphno}_{pertseed}.npy\",allow_pickle=True)\n",
    "        all_events.append(events)\n",
    "    all_events = np.array(all_events,dtype=object)\n",
    "\n",
    "    axs = []\n",
    "    for rep in range(5):\n",
    "        spike_times = []\n",
    "        for i in range(30):\n",
    "            spike_times.append(SpikeTrain(np.concatenate([all_events[0,rep,i],\n",
    "                                               all_events[1,rep,i]+7000,\n",
    "                                               all_events[2,rep,i]+14000,\n",
    "                                               all_events[3,rep,i]+21000,\n",
    "                                               all_events[4,rep,i]+28000])*q.ms,t_stop=35000*q.ms))\n",
    "        spike_times = np.array(spike_times)\n",
    "        bst = eph.conversion.BinnedSpikeTrain(list(spike_times),bin_size=50*q.ms)\n",
    "        axes = []\n",
    "        for i in np.unique(module):\n",
    "            temp = np.mean(bst.to_array()[np.arange(30)[module==i],:],axis=0)\n",
    "            axes.append(temp)\n",
    "        axs.append(axes)\n",
    "    axs = np.array(axs) \n",
    "    return axs\n",
    "def order_by_variability(axs):\n",
    "    axs = axs[:,np.argsort(axs.std(axis=(0,2)))[::-1],:]\n",
    "    return axs, [f\"M{mod+1}\" for mod in np.argsort(axs.std(axis=(0,2)))]"
   ]
  },
  {
   "cell_type": "code",
   "execution_count": 3,
   "metadata": {},
   "outputs": [],
   "source": [
    "def animate3d(axs,graphno,nreps=5,labels=[\"M1\",\"M2\",\"M3\"]):\n",
    "    for rep in range(nreps):\n",
    "        print(f\"Replicate {rep+1}\")\n",
    "        lims = axs[rep][0].min(),axs[rep][0].max(),axs[rep][1].min(),axs[rep][1].max(),axs[rep][2].min(),axs[rep][2].max()\n",
    "        fig = plt.figure(figsize=(5,7))\n",
    "        G = gridspec.GridSpec(5, 1)\n",
    "\n",
    "        ax1 = fig.add_subplot(G[0:4], projection='3d')\n",
    "        ax1.text(-0.1, -0.1, -0.1, \"0\", color='k',fontdict={\"fontsize\":10})\n",
    "        ax1.quiver(0,0,0,lims[1],0,0,arrow_length_ratio=0.1,color='k')\n",
    "        ax1.text(lims[1]+0.05, -0.05, -0.05, labels[0] , color='k',fontdict={\"fontsize\":10})\n",
    "        ax1.quiver(0,0,0,0,lims[3],0,arrow_length_ratio=0.1,color='k')\n",
    "        ax1.text(-0.05,lims[3]+0.05,-0.05, labels[1], color='k',fontdict={\"fontsize\":10})\n",
    "        ax1.quiver(0,0,0,0,0,lims[5],arrow_length_ratio=0.1,color='k')\n",
    "        ax1.text(-0.05,-0.05,lims[5]+0.05, labels[2], color='k',fontdict={\"fontsize\":10})\n",
    "        ax1.set_xlim(lims[0],lims[1])\n",
    "        ax1.set_ylim(lims[2],lims[3])\n",
    "        ax1.set_zlim(lims[4],lims[5])\n",
    "        ax1.set_axis_off()\n",
    "        ax1.xaxis.set_pane_color((1.0, 1.0, 1.0, 0.0))\n",
    "        ax1.yaxis.set_pane_color((1.0, 1.0, 1.0, 0.0))\n",
    "        ax1.zaxis.set_pane_color((1.0, 1.0, 1.0, 0.0))\n",
    "        ax1.xaxis._axinfo[\"grid\"]['color'] =  (1,1,1,0)\n",
    "        ax1.yaxis._axinfo[\"grid\"]['color'] =  (1,1,1,0)\n",
    "        ax1.zaxis._axinfo[\"grid\"]['color'] =  (1,1,1,0)\n",
    "\n",
    "        line = ax1.plot3D(0, 0, 0, 'gray',linewidth=1)\n",
    "        dot = ax1.plot3D(0, 0, 0,marker='o',color='k')\n",
    "\n",
    "        tim = ax1.text2D(0.4,0.05,\"t=0.0s\",transform=ax1.transAxes,fontsize=10)\n",
    "\n",
    "        ax2 = fig.add_subplot(G[4])\n",
    "        tracks = []\n",
    "        endpoint = []\n",
    "        for i in range(axs.shape[1]):\n",
    "            a = ax2.plot(np.arange(0,0.05*1,0.05),axs[rep][0][0],\"-\",color=plt.cm.inferno(i/axs.shape[1]),linewidth=0.5,label=f'M{i+1}')\n",
    "            tracks.append(a)\n",
    "            a = ax2.plot(0,0,\"o\",color=plt.cm.inferno(i/axs.shape[1]))\n",
    "            endpoint.append(a)\n",
    "        plt.legend(loc='upper center', bbox_to_anchor=(0.5, 1.05),\n",
    "                  ncol=axs.shape[1], fontsize=10, frameon=False)\n",
    "        ax2.set_xlim((0,35))\n",
    "        ax2.set_ylim((0,1.2*np.max([lims[1],lims[3],lims[5]])))\n",
    "        ax2.set_xlabel(\"Time (in s)\")\n",
    "        ax2.set_ylabel(\"Mean Activity\")\n",
    "\n",
    "        perts = []\n",
    "        for i in range(5):\n",
    "            for j in range(5):\n",
    "                perts.append(7*i+1.5+j)\n",
    "        pert_counter = 0\n",
    "\n",
    "        plt.subplots_adjust(wspace=0.0,hspace=0.0)\n",
    "\n",
    "        for i in tqdm(range(10,axs.shape[2])):\n",
    "            tim.set_text(f\"t = {i/20:0.3f}s\")\n",
    "            tim.set_color(\"black\")\n",
    "            if pert_counter<len(perts) and perts[pert_counter]<i/20:\n",
    "                ax2.fill_betweenx((0,1.2*np.max([lims[1],lims[3],lims[5]])),perts[pert_counter],perts[pert_counter]+0.1,color='k',alpha=0.1)\n",
    "                pert_counter+=1\n",
    "                tim.set_text(f\"t = {i/20:0.3f} s\")\n",
    "                tim.set_color(\"red\")\n",
    "            xline = axs[rep][0][i-10:i]\n",
    "            yline = axs[rep][1][i-10:i]\n",
    "            zline = axs[rep][2][i-10:i]\n",
    "            line[0].set_data_3d(xline, yline, zline)\n",
    "            dot[0].set_data_3d(xline[-1], yline[-1], zline[-1])\n",
    "            plt.gca().spines['top'].set_visible(False)\n",
    "            plt.gca().spines['right'].set_visible(False)\n",
    "            ax1.view_init(elev=20, azim=i*0.3)\n",
    "            for j in range(axs.shape[1]):\n",
    "                tracks[j][0].set_xdata(np.arange(i)/20)\n",
    "                tracks[j][0].set_ydata(axs[rep][j][:i])\n",
    "                endpoint[j][0].set_xdata(i/20)\n",
    "                endpoint[j][0].set_ydata(axs[rep][j][i])\n",
    "            plt.savefig(f\"__animationcache__/{i}.png\", dpi=90)\n",
    "        plt.close()\n",
    "        \n",
    "        images = []\n",
    "        files = os.listdir('__animationcache__')\n",
    "        files.sort(key=lambda f: int(re.sub('\\D', '', f)))\n",
    "        for filename in tqdm(files):\n",
    "            images.append(imageio.imread('__animationcache__/'+filename))\n",
    "        imageio.mimsave(f'Videos/movie_{graphno}_{rep}.gif', images,fps=20)\n",
    "        \n",
    "        for file in os.listdir('__animationcache__/'):\n",
    "            os.remove('__animationcache__/'+file)\n",
    "\n",
    "def animate2d(axs,graphno,nreps=5,labels=[\"M1\",\"M2\"]):\n",
    "    for rep in range(nreps):\n",
    "        print(f\"Replicate {rep+1}\")\n",
    "        lims = axs[rep][0].min(),axs[rep][0].max(),axs[rep][1].min(),axs[rep][1].max()\n",
    "        fig = plt.figure(figsize=(5,7))\n",
    "        G = gridspec.GridSpec(5, 1)\n",
    "\n",
    "        ax1 = fig.add_subplot(G[0:4])\n",
    "        ax1.set_xlim(lims[0],lims[1])\n",
    "        ax1.set_ylim(lims[2],lims[3])\n",
    "        ax1.set_xticks([lims[0],lims[1]])\n",
    "        ax1.set_xticklabels([\"0\",labels[0]])\n",
    "        ax1.set_yticks([lims[2],lims[3]])\n",
    "        ax1.set_yticklabels([\"\",labels[1]])\n",
    "        line = ax1.plot(0, 0, 'gray',linewidth=1)\n",
    "        dot = ax1.plot(0, 0, marker='o',color='k')\n",
    "\n",
    "        tim = ax1.text(0.4,0.05,\"t=0.0s\",transform=ax1.transAxes,fontsize=10)\n",
    "        ax1.spines['right'].set_visible(False)\n",
    "        ax1.spines['top'].set_visible(False)\n",
    "\n",
    "        ax2 = fig.add_subplot(G[4])\n",
    "        tracks = []\n",
    "        endpoint = []\n",
    "        for i in range(axs.shape[1]):\n",
    "            a = ax2.plot(np.arange(0,0.05*1,0.05),axs[rep][0][0],\"-\",color=plt.cm.inferno(i/axs.shape[1]),linewidth=0.5,label=f'M{i+1}')\n",
    "            tracks.append(a)\n",
    "            a = ax2.plot(0,0,\"o\",color=plt.cm.inferno(i/axs.shape[1]))\n",
    "            endpoint.append(a)\n",
    "        plt.legend(loc='upper center', bbox_to_anchor=(0.5, 1.05),\n",
    "                  ncol=3, fontsize=10, frameon=False)\n",
    "        ax2.set_xlim((0,35))\n",
    "        ax2.set_ylim((0,1.2*np.max([lims[1],lims[3]])))\n",
    "        ax2.set_xlabel(\"Time (in s)\")\n",
    "        ax2.set_ylabel(\"Mean Activity\")\n",
    "\n",
    "        perts = []\n",
    "        for i in range(5):\n",
    "            for j in range(5):\n",
    "                perts.append(7*i+1.5+j)\n",
    "        pert_counter = 0\n",
    "\n",
    "        plt.subplots_adjust(wspace=0.0,hspace=0.5)\n",
    "\n",
    "        for i in tqdm(range(10,axs.shape[2])):\n",
    "            tim.set_text(f\"t = {i/20:0.3f}s\")\n",
    "            tim.set_color(\"black\")\n",
    "            if pert_counter<len(perts) and perts[pert_counter]<i/20:\n",
    "                ax2.fill_betweenx((0,1.2*np.max([lims[1],lims[3]])),perts[pert_counter],perts[pert_counter]+0.1,color='k',alpha=0.1)\n",
    "                pert_counter+=1\n",
    "                tim.set_text(f\"t = {i/20:0.3f} s\")\n",
    "                tim.set_color(\"red\")\n",
    "            xline = axs[rep][0][i-10:i]\n",
    "            yline = axs[rep][1][i-10:i]\n",
    "            line[0].set_data(xline, yline)\n",
    "            dot[0].set_data(xline[-1], yline[-1])\n",
    "            plt.gca().spines['top'].set_visible(False)\n",
    "            plt.gca().spines['right'].set_visible(False)\n",
    "            for j in range(axs.shape[1]):\n",
    "                tracks[j][0].set_xdata(np.arange(i)/20)\n",
    "                tracks[j][0].set_ydata(axs[rep][j][:i])\n",
    "                endpoint[j][0].set_xdata(i/20)\n",
    "                endpoint[j][0].set_ydata(axs[rep][j][i])\n",
    "            plt.savefig(f\"__animationcache__/{i}.png\", dpi=90)\n",
    "        plt.close()\n",
    "        \n",
    "        images = []\n",
    "        files = os.listdir('__animationcache__')\n",
    "        files.sort(key=lambda f: int(re.sub('\\D', '', f)))\n",
    "        for filename in tqdm(files):\n",
    "            images.append(imageio.imread('__animationcache__/'+filename))\n",
    "        imageio.mimsave(f'Videos/movie_{graphno}_{rep}.gif', images,fps=20)\n",
    "        \n",
    "        for file in os.listdir('__animationcache__/'):\n",
    "            os.remove('__animationcache__/'+file)"
   ]
  },
  {
   "cell_type": "code",
   "execution_count": null,
   "metadata": {},
   "outputs": [],
   "source": [
    "for i in range(1,11):\n",
    "    axs = eval_spikes(i)\n",
    "    if axs.shape[1]>3:\n",
    "        axs,labels = order_by_variability(axs)\n",
    "        animate3d(axs,i,labels=labels)\n",
    "    elif axs.shape[1]>2:\n",
    "        animate3d(axs,i)\n",
    "    else:\n",
    "        animate2d(axs,i)"
   ]
  },
  {
   "cell_type": "code",
   "execution_count": 5,
   "metadata": {},
   "outputs": [
    {
     "name": "stderr",
     "output_type": "stream",
     "text": [
      "100%|██████████| 688/688 [02:05<00:00,  5.49it/s]\n",
      "100%|██████████| 688/688 [01:57<00:00,  5.86it/s]\n",
      "100%|██████████| 688/688 [02:04<00:00,  5.51it/s]\n",
      "100%|██████████| 688/688 [02:20<00:00,  4.90it/s]\n",
      "100%|██████████| 688/688 [02:14<00:00,  5.10it/s]\n",
      "100%|██████████| 688/688 [02:03<00:00,  5.59it/s]\n",
      "100%|██████████| 688/688 [02:06<00:00,  5.45it/s]\n",
      "100%|██████████| 688/688 [02:16<00:00,  5.04it/s]\n",
      "100%|██████████| 688/688 [02:12<00:00,  5.19it/s]\n",
      "100%|██████████| 688/688 [01:57<00:00,  5.88it/s]\n"
     ]
    }
   ],
   "source": [
    "for graphno in range(1,11):\n",
    "    gifs = [imageio.get_reader(f'Videos/{x}') for x in filter(lambda v: f\"_{graphno}_\" in v,os.listdir(\"Videos/\"))]\n",
    "    new_gif = imageio.get_writer(f'Videos/{graphno}_out.gif',fps=20)\n",
    "    for frame_number in tqdm(range(np.min([gif.get_length() for gif in gifs]))):\n",
    "        datas = [gif.get_next_data() for gif in gifs]\n",
    "        new_image = np.hstack(datas)\n",
    "        new_gif.append_data(new_image)\n",
    "    for gif in gifs:\n",
    "        gif.close()\n",
    "    new_gif.close()"
   ]
  },
  {
   "cell_type": "code",
   "execution_count": 6,
   "metadata": {},
   "outputs": [
    {
     "name": "stderr",
     "output_type": "stream",
     "text": [
      "100%|██████████| 688/688 [04:28<00:00,  2.56it/s]\n",
      "100%|██████████| 688/688 [03:45<00:00,  3.05it/s]\n",
      "100%|██████████| 688/688 [03:28<00:00,  3.30it/s]\n",
      "100%|██████████| 688/688 [04:18<00:00,  2.67it/s]\n",
      "100%|██████████| 688/688 [04:10<00:00,  2.75it/s]\n"
     ]
    }
   ],
   "source": [
    "files = list(filter(lambda v: \"_out\" in v,os.listdir(\"Videos/\")))\n",
    "files.sort(key=lambda f: int(re.sub('\\D', '', f)))\n",
    "for graphno in range(1,11,2):\n",
    "    gifs = [imageio.get_reader(f'Videos/{x}') for x in files[graphno-1:graphno+1]]\n",
    "    new_gif = imageio.get_writer(f'Videos/set_{graphno}_{graphno+1}.gif',fps=20)\n",
    "    for frame_number in tqdm(range(np.min([gif.get_length() for gif in gifs]))):\n",
    "        datas = [gif.get_next_data() for gif in gifs]\n",
    "        new_image = np.vstack(datas)\n",
    "        new_gif.append_data(new_image)\n",
    "    for gif in gifs:\n",
    "        gif.close()\n",
    "    new_gif.close()"
   ]
  },
  {
   "cell_type": "code",
   "execution_count": 9,
   "metadata": {},
   "outputs": [
    {
     "name": "stderr",
     "output_type": "stream",
     "text": [
      "100%|██████████| 5/5 [02:25<00:00, 29.08s/it]\n"
     ]
    },
    {
     "data": {
      "text/plain": [
       "1"
      ]
     },
     "execution_count": 9,
     "metadata": {},
     "output_type": "execute_result"
    }
   ],
   "source": [
    "os.chdir(\"Videos/\")\n",
    "with open('vid_list.txt','w') as f:\n",
    "    f.write(\"file 'supplementary_video_caption.mp4'\\n\")\n",
    "    for graphno in tqdm(range(1,11,2)):\n",
    "        call(['ffmpeg.exe','-i',f'set_{graphno}_{graphno+1}.gif',f'set_{graphno}_{graphno+1}.mp4'])\n",
    "        f.write(f\"file 'set_{graphno}_{graphno+1}.mp4'\\n\")"
   ]
  },
  {
   "cell_type": "code",
   "execution_count": 16,
   "metadata": {},
   "outputs": [
    {
     "data": {
      "text/plain": [
       "0"
      ]
     },
     "execution_count": 16,
     "metadata": {},
     "output_type": "execute_result"
    }
   ],
   "source": [
    "call(['ffmpeg.exe','-f','concat','-safe','0','-i','vid_list.txt','-c','copy','../supplementary_video1.mp4'])"
   ]
  },
  {
   "cell_type": "code",
   "execution_count": 19,
   "metadata": {},
   "outputs": [],
   "source": [
    "for f in filter(lambda v:\".gif\" in v, os.listdir()):\n",
    "    os.rename(f,'.archive/'+f)"
   ]
  }
 ],
 "metadata": {
  "interpreter": {
   "hash": "73e03da126b73bfff3642ec5261d56fa25c444ea595de51041687efaa60dda41"
  },
  "kernelspec": {
   "display_name": "odor-states",
   "language": "python",
   "name": "python3"
  },
  "language_info": {
   "codemirror_mode": {
    "name": "ipython",
    "version": 3
   },
   "file_extension": ".py",
   "mimetype": "text/x-python",
   "name": "python",
   "nbconvert_exporter": "python",
   "pygments_lexer": "ipython3",
   "version": "3.8.8"
  }
 },
 "nbformat": 4,
 "nbformat_minor": 4
}
