{
 "cells": [
  {
   "cell_type": "code",
   "execution_count": 2,
   "metadata": {},
   "outputs": [],
   "source": [
    "from tqdm import tqdm\n",
    "import matplotlib.pyplot as plt\n",
    "import matplotlib as mpl\n",
    "from mpl_toolkits import mplot3d\n",
    "import matplotlib.gridspec as gridspec\n",
    "from neo.core import SpikeTrain\n",
    "import elephant as eph\n",
    "import quantities as q\n",
    "import numpy as np\n",
    "import os\n",
    "import re \n",
    "import seaborn as sns\n",
    "import pandas as pd\n",
    "import imageio\n",
    "import ffmpy\n",
    "mpl.rcParams.update({'font.size': 15})\n",
    "%config Completer.use_jedi = False"
   ]
  },
  {
   "cell_type": "code",
   "execution_count": 2,
   "metadata": {},
   "outputs": [],
   "source": [
    "def eval_spikes(graphno,binsize=200):\n",
    "    mat = np.loadtxt(f'../modules/networks/matrix_{graphno}.csv',delimiter=\",\")\n",
    "    module = np.loadtxt(f'../modules/networks/matrix_{graphno}_modules.csv')\n",
    "    order = np.argsort(module)\n",
    "    all_traces = []\n",
    "    for pertseed in [59428,13674,84932,72957,85036]:\n",
    "        traces = np.load(f\"../fig2/Data/LN30_data_{graphno}_{pertseed}.npy\",allow_pickle=True)\n",
    "        traces = np.append(traces,np.median(traces)*np.ones((5,1,30)),axis=1)\n",
    "        traces = np.apply_along_axis(lambda v: np.convolve(v,1000*np.ones(binsize)/binsize,)[:v.shape[0]],1,np.logical_and(traces[:,:-1,:]<-20,traces[:,1:,:]>=-20))\n",
    "        all_traces.append(traces)\n",
    "    all_traces = np.concatenate(all_traces,axis=1)\n",
    "    axs = []\n",
    "    for i in np.unique(module):\n",
    "        temp = np.mean(all_traces[:,:,np.arange(30)[module==i]],axis=2)\n",
    "        axs.append(temp)\n",
    "    axs = np.transpose(np.array(axs),(1,0,2))\n",
    "    return axs\n",
    "def order_by_variability(axs):\n",
    "    axs = axs[:,np.argsort(axs.std(axis=(0,2)))[::-1],:]\n",
    "    return axs, [f\"M{mod+1}\" for mod in np.argsort(axs.std(axis=(0,2)))]"
   ]
  },
  {
   "cell_type": "code",
   "execution_count": 12,
   "metadata": {},
   "outputs": [],
   "source": [
    "def animate3d(data,graphno,nreps=5,labels=[\"C1\",\"C2\",\"C3\"]):\n",
    "    for rep in range(nreps):\n",
    "        print(f\"Replicate {rep+1}\")\n",
    "        lims = axs[rep][0].min(),axs[rep][0].max(),axs[rep][1].min(),axs[rep][1].max(),axs[rep][2].min(),axs[rep][2].max()\n",
    "        fig = plt.figure(figsize=(5,7))\n",
    "        G = gridspec.GridSpec(5, 1)\n",
    "\n",
    "        ax1 = fig.add_subplot(G[0:4], projection='3d')\n",
    "        ax1.text(-0.1, -0.1, -0.1, \"0\", color='k',fontdict={\"fontsize\":10})\n",
    "        ax1.quiver(0,0,0,lims[1],0,0,arrow_length_ratio=0.1,color='k')\n",
    "        ax1.text(lims[1]+0.05, -0.05, -0.05, labels[0] , color='k',fontdict={\"fontsize\":10})\n",
    "        ax1.quiver(0,0,0,0,lims[3],0,arrow_length_ratio=0.1,color='k')\n",
    "        ax1.text(-0.05,lims[3]+0.05,-0.05, labels[1], color='k',fontdict={\"fontsize\":10})\n",
    "        ax1.quiver(0,0,0,0,0,lims[5],arrow_length_ratio=0.1,color='k')\n",
    "        ax1.text(-0.05,-0.05,lims[5]+0.05, labels[2], color='k',fontdict={\"fontsize\":10})\n",
    "        ax1.set_xlim(lims[0],lims[1])\n",
    "        ax1.set_ylim(lims[2],lims[3])\n",
    "        ax1.set_zlim(lims[4],lims[5])\n",
    "        ax1.set_axis_off()\n",
    "        ax1.xaxis.set_pane_color((1.0, 1.0, 1.0, 0.0))\n",
    "        ax1.yaxis.set_pane_color((1.0, 1.0, 1.0, 0.0))\n",
    "        ax1.zaxis.set_pane_color((1.0, 1.0, 1.0, 0.0))\n",
    "        ax1.xaxis._axinfo[\"grid\"]['color'] =  (1,1,1,0)\n",
    "        ax1.yaxis._axinfo[\"grid\"]['color'] =  (1,1,1,0)\n",
    "        ax1.zaxis._axinfo[\"grid\"]['color'] =  (1,1,1,0)\n",
    "\n",
    "        line = ax1.plot3D(0, 0, 0, 'gray',linewidth=1)\n",
    "        dot = ax1.plot3D(0, 0, 0,marker='o',color='k')\n",
    "\n",
    "        tim = ax1.text2D(0.4,0.05,\"t=0.0s\",transform=ax1.transAxes,fontsize=10)\n",
    "        \n",
    "        plt.title(f\"Replicate {rep+1}\")\n",
    "        \n",
    "        ax2 = fig.add_subplot(G[4])\n",
    "        tracks = []\n",
    "        endpoint = []\n",
    "        for i in range(axs.shape[1]):\n",
    "            a = ax2.plot(np.arange(0,0.05*1,0.05),axs[rep][0][0],\"-\",\n",
    "                         color=plt.cm.inferno(i/axs.shape[1]),linewidth=0.5,label=f'C{i+1}')\n",
    "            tracks.append(a)\n",
    "            a = ax2.plot(0,0,\"o\",color=plt.cm.inferno(i/axs.shape[1]))\n",
    "            endpoint.append(a)\n",
    "        plt.legend(loc='upper center', bbox_to_anchor=(0.5, 1.05),\n",
    "                  ncol=axs.shape[1], fontsize=10, frameon=False)\n",
    "        ax2.set_xlim((0,35))\n",
    "        ax2.set_ylim((0,1.2*np.max([lims[1],lims[3],lims[5]])))\n",
    "        ax2.set_xlabel(\"Time (in s)\")\n",
    "        ax2.set_ylabel(\"Mean FR (Hz)\")\n",
    "        \n",
    "        if rep == 2:\n",
    "            plt.suptitle(f\"Random Network {graphno}\")\n",
    "        \n",
    "        perts = []\n",
    "        for i in range(5):\n",
    "            for j in range(5):\n",
    "                perts.append(7*i+1.5+j)\n",
    "        pert_counter = 0\n",
    "\n",
    "        plt.subplots_adjust(wspace=0.0,hspace=0.0)\n",
    "\n",
    "        for i in tqdm(range(500,axs.shape[2],50)):\n",
    "            tim.set_text(f\"t = {i/1000:0.3f}s\")\n",
    "            tim.set_color(\"black\")\n",
    "            if pert_counter<len(perts) and perts[pert_counter]<i/1000:\n",
    "                ax2.fill_betweenx((0,1.2*np.max([lims[1],lims[3],lims[5]])),\n",
    "                                  perts[pert_counter],perts[pert_counter]+0.1,color='k',alpha=0.1)\n",
    "                pert_counter+=1\n",
    "                tim.set_text(f\"t = {i/1000:0.3f} s\")\n",
    "                tim.set_color(\"red\")\n",
    "            xline = axs[rep][0][i-500:i]\n",
    "            yline = axs[rep][1][i-500:i]\n",
    "            zline = axs[rep][2][i-500:i]\n",
    "            line[0].set_data_3d(xline, yline, zline)\n",
    "            dot[0].set_data_3d(xline[-1], yline[-1], zline[-1])\n",
    "            plt.gca().spines['top'].set_visible(False)\n",
    "            plt.gca().spines['right'].set_visible(False)\n",
    "            ax1.view_init(elev=20, azim=i*0.02)\n",
    "            for j in range(axs.shape[1]):\n",
    "                tracks[j][0].set_xdata(np.arange(i)/1000)\n",
    "                tracks[j][0].set_ydata(axs[rep][j][:i])\n",
    "                endpoint[j][0].set_xdata(i/1000)\n",
    "                endpoint[j][0].set_ydata(axs[rep][j][i])\n",
    "            plt.savefig(f\"anim/{i}.png\", dpi=90)\n",
    "        plt.close()\n",
    "        \n",
    "        images = []\n",
    "        files = os.listdir('anim')\n",
    "        files.sort(key=lambda f: int(re.sub('\\D', '', f)))\n",
    "        for filename in tqdm(files):\n",
    "            images.append(imageio.imread('anim/'+filename))\n",
    "        imageio.mimsave(f'Videos/movie_{graphno}_{rep}.gif', images,fps=20)\n",
    "        \n",
    "        for file in os.listdir('anim/'):\n",
    "            os.remove('anim/'+file)\n",
    "\n",
    "def animate2d(data,graphno,nreps=5,labels=[\"M1\",\"M2\"],rep=1):\n",
    "    for rep in range(nreps):\n",
    "        print(f\"Replicate {rep+1}\")\n",
    "        lims = axs[rep][0].min(),axs[rep][0].max(),axs[rep][1].min(),axs[rep][1].max()\n",
    "        fig = plt.figure(figsize=(5,7))\n",
    "        G = gridspec.GridSpec(5, 1)\n",
    "\n",
    "        ax1 = fig.add_subplot(G[0:4])\n",
    "        ax1.set_xlim(lims[0],lims[1])\n",
    "        ax1.set_ylim(lims[2],lims[3])\n",
    "        ax1.set_xticks([lims[0],lims[1]])\n",
    "        ax1.set_xticklabels([\"0\",labels[0]])\n",
    "        ax1.set_yticks([lims[2],lims[3]])\n",
    "        ax1.set_yticklabels([\"\",labels[1]])\n",
    "        line = ax1.plot(0, 0, 'gray',linewidth=1)\n",
    "        dot = ax1.plot(0, 0, marker='o',color='k')\n",
    "\n",
    "        tim = ax1.text(0.4,0.05,\"t=0.0s\",transform=ax1.transAxes,fontsize=10)\n",
    "        ax1.spines['right'].set_visible(False)\n",
    "        ax1.spines['top'].set_visible(False)\n",
    "        plt.title(f\"Replicate {rep+1}\")\n",
    "        \n",
    "        ax2 = fig.add_subplot(G[4])\n",
    "        tracks = []\n",
    "        endpoint = []\n",
    "        for i in range(axs.shape[1]):\n",
    "            a = ax2.plot(np.arange(0,0.05*1,0.05),axs[rep][0][0],\"-\",\n",
    "                         color=plt.cm.inferno(i/axs.shape[1]),linewidth=0.5,label=f'C{i+1}')\n",
    "            tracks.append(a)\n",
    "            a = ax2.plot(0,0,\"o\",color=plt.cm.inferno(i/axs.shape[1]))\n",
    "            endpoint.append(a)\n",
    "        plt.legend(loc='upper center', bbox_to_anchor=(0.5, 1.05),\n",
    "                  ncol=3, fontsize=10, frameon=False)\n",
    "        ax2.set_xlim((0,35))\n",
    "        ax2.set_ylim((0,1.2*np.max([lims[1],lims[3]])))\n",
    "        ax2.set_xlabel(\"Time (in s)\")\n",
    "        ax2.set_ylabel(\"Mean FR (Hz)\")\n",
    "        \n",
    "        if rep == 2:\n",
    "            plt.suptitle(f\"Random Network {graphno}\")\n",
    "        \n",
    "        perts = []\n",
    "        for i in range(5):\n",
    "            for j in range(5):\n",
    "                perts.append(7*i+1.5+j)\n",
    "        pert_counter = 0\n",
    "\n",
    "        plt.subplots_adjust(wspace=0.0,hspace=0.5)\n",
    "\n",
    "        for i in tqdm(range(500,axs.shape[2],50)):\n",
    "            tim.set_text(f\"t = {i/1000:0.3f}s\")\n",
    "            tim.set_color(\"black\")\n",
    "            if pert_counter<len(perts) and perts[pert_counter]<i/1000:\n",
    "                ax2.fill_betweenx((0,1.2*np.max([lims[1],lims[3]])),perts[pert_counter],perts[pert_counter]+0.1,color='k',alpha=0.1)\n",
    "                pert_counter+=1\n",
    "                tim.set_text(f\"t = {i/1000:0.3f} s\")\n",
    "                tim.set_color(\"red\")\n",
    "            xline = axs[rep][0][i-500:i]\n",
    "            yline = axs[rep][1][i-500:i]\n",
    "            line[0].set_data(xline, yline)\n",
    "            dot[0].set_data(xline[-1], yline[-1])\n",
    "            plt.gca().spines['top'].set_visible(False)\n",
    "            plt.gca().spines['right'].set_visible(False)\n",
    "            for j in range(axs.shape[1]):\n",
    "                tracks[j][0].set_xdata(np.arange(i)/1000)\n",
    "                tracks[j][0].set_ydata(axs[rep][j][:i])\n",
    "                endpoint[j][0].set_xdata(i/1000)\n",
    "                endpoint[j][0].set_ydata(axs[rep][j][i])\n",
    "            plt.savefig(f\"anim/{i}.png\", dpi=90)\n",
    "        plt.close()\n",
    "        \n",
    "        images = []\n",
    "        files = os.listdir('anim')\n",
    "        files.sort(key=lambda f: int(re.sub('\\D', '', f)))\n",
    "        for filename in tqdm(files):\n",
    "            images.append(imageio.imread('anim/'+filename))\n",
    "        imageio.mimsave(f'Videos/movie_{graphno}_{rep}.gif', images,fps=20)\n",
    "        \n",
    "        for file in os.listdir('anim/'):\n",
    "            os.remove('anim/'+file)"
   ]
  },
  {
   "cell_type": "code",
   "execution_count": 13,
   "metadata": {
    "scrolled": false
   },
   "outputs": [
    {
     "name": "stderr",
     "output_type": "stream",
     "text": [
      "\r",
      "  0%|                                                                                          | 0/688 [00:00<?, ?it/s]"
     ]
    },
    {
     "name": "stdout",
     "output_type": "stream",
     "text": [
      "(5, 4, 34860)\n",
      "Replicate 1\n"
     ]
    },
    {
     "name": "stderr",
     "output_type": "stream",
     "text": [
      "100%|████████████████████████████████████████████████████████████████████████████████| 688/688 [02:37<00:00,  4.36it/s]\n",
      "100%|███████████████████████████████████████████████████████████████████████████████| 688/688 [00:04<00:00, 152.04it/s]\n",
      "  0%|                                                                                          | 0/688 [00:00<?, ?it/s]"
     ]
    },
    {
     "name": "stdout",
     "output_type": "stream",
     "text": [
      "Replicate 2\n"
     ]
    },
    {
     "name": "stderr",
     "output_type": "stream",
     "text": [
      "100%|████████████████████████████████████████████████████████████████████████████████| 688/688 [03:03<00:00,  3.76it/s]\n",
      "100%|███████████████████████████████████████████████████████████████████████████████| 688/688 [00:05<00:00, 125.32it/s]\n",
      "  0%|                                                                                          | 0/688 [00:00<?, ?it/s]"
     ]
    },
    {
     "name": "stdout",
     "output_type": "stream",
     "text": [
      "Replicate 3\n"
     ]
    },
    {
     "name": "stderr",
     "output_type": "stream",
     "text": [
      "100%|████████████████████████████████████████████████████████████████████████████████| 688/688 [02:44<00:00,  4.18it/s]\n",
      "100%|███████████████████████████████████████████████████████████████████████████████| 688/688 [00:04<00:00, 165.32it/s]\n",
      "  0%|                                                                                          | 0/688 [00:00<?, ?it/s]"
     ]
    },
    {
     "name": "stdout",
     "output_type": "stream",
     "text": [
      "Replicate 4\n"
     ]
    },
    {
     "name": "stderr",
     "output_type": "stream",
     "text": [
      "100%|████████████████████████████████████████████████████████████████████████████████| 688/688 [02:15<00:00,  5.08it/s]\n",
      "100%|███████████████████████████████████████████████████████████████████████████████| 688/688 [00:04<00:00, 140.61it/s]\n",
      "  0%|                                                                                          | 0/688 [00:00<?, ?it/s]"
     ]
    },
    {
     "name": "stdout",
     "output_type": "stream",
     "text": [
      "Replicate 5\n"
     ]
    },
    {
     "name": "stderr",
     "output_type": "stream",
     "text": [
      "100%|████████████████████████████████████████████████████████████████████████████████| 688/688 [02:15<00:00,  5.09it/s]\n",
      "100%|███████████████████████████████████████████████████████████████████████████████| 688/688 [00:03<00:00, 178.48it/s]\n"
     ]
    }
   ],
   "source": [
    "axs = eval_spikes(1)\n",
    "print(axs.shape)\n",
    "axs,labels = order_by_variability(axs)\n",
    "animate3d(axs,1,labels=labels)"
   ]
  },
  {
   "cell_type": "code",
   "execution_count": 14,
   "metadata": {},
   "outputs": [
    {
     "name": "stderr",
     "output_type": "stream",
     "text": [
      "\r",
      "  0%|                                                                                          | 0/688 [00:00<?, ?it/s]"
     ]
    },
    {
     "name": "stdout",
     "output_type": "stream",
     "text": [
      "(5, 2, 34860)\n",
      "Replicate 1\n"
     ]
    },
    {
     "name": "stderr",
     "output_type": "stream",
     "text": [
      "100%|████████████████████████████████████████████████████████████████████████████████| 688/688 [01:41<00:00,  6.78it/s]\n",
      "100%|███████████████████████████████████████████████████████████████████████████████| 688/688 [00:03<00:00, 176.58it/s]\n",
      "  0%|                                                                                  | 1/688 [00:00<01:31,  7.48it/s]"
     ]
    },
    {
     "name": "stdout",
     "output_type": "stream",
     "text": [
      "Replicate 2\n"
     ]
    },
    {
     "name": "stderr",
     "output_type": "stream",
     "text": [
      "100%|████████████████████████████████████████████████████████████████████████████████| 688/688 [01:43<00:00,  6.67it/s]\n",
      "100%|███████████████████████████████████████████████████████████████████████████████| 688/688 [00:03<00:00, 183.18it/s]\n",
      "  0%|                                                                                          | 0/688 [00:00<?, ?it/s]"
     ]
    },
    {
     "name": "stdout",
     "output_type": "stream",
     "text": [
      "Replicate 3\n"
     ]
    },
    {
     "name": "stderr",
     "output_type": "stream",
     "text": [
      "100%|████████████████████████████████████████████████████████████████████████████████| 688/688 [01:44<00:00,  6.57it/s]\n",
      "100%|███████████████████████████████████████████████████████████████████████████████| 688/688 [00:04<00:00, 166.28it/s]\n",
      "  0%|                                                                                  | 1/688 [00:00<01:31,  7.53it/s]"
     ]
    },
    {
     "name": "stdout",
     "output_type": "stream",
     "text": [
      "Replicate 4\n"
     ]
    },
    {
     "name": "stderr",
     "output_type": "stream",
     "text": [
      "100%|████████████████████████████████████████████████████████████████████████████████| 688/688 [01:41<00:00,  6.78it/s]\n",
      "100%|███████████████████████████████████████████████████████████████████████████████| 688/688 [00:04<00:00, 170.07it/s]\n",
      "  0%|                                                                                  | 1/688 [00:00<01:22,  8.28it/s]"
     ]
    },
    {
     "name": "stdout",
     "output_type": "stream",
     "text": [
      "Replicate 5\n"
     ]
    },
    {
     "name": "stderr",
     "output_type": "stream",
     "text": [
      "100%|████████████████████████████████████████████████████████████████████████████████| 688/688 [01:39<00:00,  6.93it/s]\n",
      "100%|███████████████████████████████████████████████████████████████████████████████| 688/688 [00:03<00:00, 189.38it/s]\n"
     ]
    }
   ],
   "source": [
    "axs = eval_spikes(2)\n",
    "print(axs.shape)\n",
    "animate2d(axs,2)"
   ]
  },
  {
   "cell_type": "code",
   "execution_count": 15,
   "metadata": {},
   "outputs": [
    {
     "name": "stderr",
     "output_type": "stream",
     "text": [
      "  0%|                                                                                  | 1/688 [00:00<01:30,  7.60it/s]"
     ]
    },
    {
     "name": "stdout",
     "output_type": "stream",
     "text": [
      "(5, 2, 34860)\n",
      "Replicate 1\n"
     ]
    },
    {
     "name": "stderr",
     "output_type": "stream",
     "text": [
      "100%|████████████████████████████████████████████████████████████████████████████████| 688/688 [01:39<00:00,  6.95it/s]\n",
      "100%|███████████████████████████████████████████████████████████████████████████████| 688/688 [00:03<00:00, 193.24it/s]\n",
      "  0%|                                                                                  | 1/688 [00:00<01:39,  6.90it/s]"
     ]
    },
    {
     "name": "stdout",
     "output_type": "stream",
     "text": [
      "Replicate 2\n"
     ]
    },
    {
     "name": "stderr",
     "output_type": "stream",
     "text": [
      "100%|████████████████████████████████████████████████████████████████████████████████| 688/688 [01:39<00:00,  6.94it/s]\n",
      "100%|███████████████████████████████████████████████████████████████████████████████| 688/688 [00:03<00:00, 175.24it/s]\n",
      "  0%|                                                                                  | 1/688 [00:00<01:24,  8.09it/s]"
     ]
    },
    {
     "name": "stdout",
     "output_type": "stream",
     "text": [
      "Replicate 3\n"
     ]
    },
    {
     "name": "stderr",
     "output_type": "stream",
     "text": [
      "100%|████████████████████████████████████████████████████████████████████████████████| 688/688 [01:43<00:00,  6.66it/s]\n",
      "100%|███████████████████████████████████████████████████████████████████████████████| 688/688 [00:03<00:00, 192.47it/s]\n",
      "  0%|                                                                                  | 1/688 [00:00<01:28,  7.79it/s]"
     ]
    },
    {
     "name": "stdout",
     "output_type": "stream",
     "text": [
      "Replicate 4\n"
     ]
    },
    {
     "name": "stderr",
     "output_type": "stream",
     "text": [
      "100%|████████████████████████████████████████████████████████████████████████████████| 688/688 [01:40<00:00,  6.83it/s]\n",
      "100%|███████████████████████████████████████████████████████████████████████████████| 688/688 [00:04<00:00, 152.16it/s]\n",
      "  0%|                                                                                  | 1/688 [00:00<01:34,  7.24it/s]"
     ]
    },
    {
     "name": "stdout",
     "output_type": "stream",
     "text": [
      "Replicate 5\n"
     ]
    },
    {
     "name": "stderr",
     "output_type": "stream",
     "text": [
      "100%|████████████████████████████████████████████████████████████████████████████████| 688/688 [01:48<00:00,  6.37it/s]\n",
      "100%|███████████████████████████████████████████████████████████████████████████████| 688/688 [00:04<00:00, 155.59it/s]\n"
     ]
    }
   ],
   "source": [
    "axs = eval_spikes(3)\n",
    "print(axs.shape)\n",
    "animate2d(axs,3)"
   ]
  },
  {
   "cell_type": "code",
   "execution_count": 16,
   "metadata": {},
   "outputs": [
    {
     "name": "stderr",
     "output_type": "stream",
     "text": [
      "\r",
      "  0%|                                                                                          | 0/688 [00:00<?, ?it/s]"
     ]
    },
    {
     "name": "stdout",
     "output_type": "stream",
     "text": [
      "(5, 3, 34860)\n",
      "Replicate 1\n"
     ]
    },
    {
     "name": "stderr",
     "output_type": "stream",
     "text": [
      "100%|████████████████████████████████████████████████████████████████████████████████| 688/688 [02:07<00:00,  5.38it/s]\n",
      "100%|███████████████████████████████████████████████████████████████████████████████| 688/688 [00:04<00:00, 169.38it/s]\n",
      "  0%|                                                                                          | 0/688 [00:00<?, ?it/s]"
     ]
    },
    {
     "name": "stdout",
     "output_type": "stream",
     "text": [
      "Replicate 2\n"
     ]
    },
    {
     "name": "stderr",
     "output_type": "stream",
     "text": [
      "100%|████████████████████████████████████████████████████████████████████████████████| 688/688 [02:01<00:00,  5.67it/s]\n",
      "100%|███████████████████████████████████████████████████████████████████████████████| 688/688 [00:03<00:00, 180.60it/s]\n",
      "  0%|                                                                                          | 0/688 [00:00<?, ?it/s]"
     ]
    },
    {
     "name": "stdout",
     "output_type": "stream",
     "text": [
      "Replicate 3\n"
     ]
    },
    {
     "name": "stderr",
     "output_type": "stream",
     "text": [
      "100%|████████████████████████████████████████████████████████████████████████████████| 688/688 [02:02<00:00,  5.61it/s]\n",
      "100%|███████████████████████████████████████████████████████████████████████████████| 688/688 [00:04<00:00, 171.06it/s]\n",
      "  0%|                                                                                          | 0/688 [00:00<?, ?it/s]"
     ]
    },
    {
     "name": "stdout",
     "output_type": "stream",
     "text": [
      "Replicate 4\n"
     ]
    },
    {
     "name": "stderr",
     "output_type": "stream",
     "text": [
      "100%|████████████████████████████████████████████████████████████████████████████████| 688/688 [01:57<00:00,  5.86it/s]\n",
      "100%|███████████████████████████████████████████████████████████████████████████████| 688/688 [00:03<00:00, 184.88it/s]\n",
      "  0%|                                                                                  | 1/688 [00:00<01:44,  6.56it/s]"
     ]
    },
    {
     "name": "stdout",
     "output_type": "stream",
     "text": [
      "Replicate 5\n"
     ]
    },
    {
     "name": "stderr",
     "output_type": "stream",
     "text": [
      "100%|████████████████████████████████████████████████████████████████████████████████| 688/688 [01:55<00:00,  5.95it/s]\n",
      "100%|███████████████████████████████████████████████████████████████████████████████| 688/688 [00:04<00:00, 169.80it/s]\n"
     ]
    }
   ],
   "source": [
    "axs = eval_spikes(4)\n",
    "print(axs.shape)\n",
    "animate3d(axs,4)"
   ]
  },
  {
   "cell_type": "code",
   "execution_count": 17,
   "metadata": {},
   "outputs": [
    {
     "name": "stderr",
     "output_type": "stream",
     "text": [
      "\r",
      "  0%|                                                                                          | 0/688 [00:00<?, ?it/s]"
     ]
    },
    {
     "name": "stdout",
     "output_type": "stream",
     "text": [
      "(5, 3, 34860)\n",
      "Replicate 1\n"
     ]
    },
    {
     "name": "stderr",
     "output_type": "stream",
     "text": [
      "100%|████████████████████████████████████████████████████████████████████████████████| 688/688 [01:55<00:00,  5.98it/s]\n",
      "100%|███████████████████████████████████████████████████████████████████████████████| 688/688 [00:03<00:00, 187.37it/s]\n",
      "  0%|                                                                                  | 1/688 [00:00<01:39,  6.92it/s]"
     ]
    },
    {
     "name": "stdout",
     "output_type": "stream",
     "text": [
      "Replicate 2\n"
     ]
    },
    {
     "name": "stderr",
     "output_type": "stream",
     "text": [
      "100%|████████████████████████████████████████████████████████████████████████████████| 688/688 [01:53<00:00,  6.05it/s]\n",
      "100%|███████████████████████████████████████████████████████████████████████████████| 688/688 [00:03<00:00, 184.76it/s]\n",
      "  0%|                                                                                  | 1/688 [00:00<01:46,  6.47it/s]"
     ]
    },
    {
     "name": "stdout",
     "output_type": "stream",
     "text": [
      "Replicate 3\n"
     ]
    },
    {
     "name": "stderr",
     "output_type": "stream",
     "text": [
      "100%|████████████████████████████████████████████████████████████████████████████████| 688/688 [01:59<00:00,  5.78it/s]\n",
      "100%|███████████████████████████████████████████████████████████████████████████████| 688/688 [00:03<00:00, 184.69it/s]\n",
      "  0%|                                                                                  | 1/688 [00:00<01:40,  6.82it/s]"
     ]
    },
    {
     "name": "stdout",
     "output_type": "stream",
     "text": [
      "Replicate 4\n"
     ]
    },
    {
     "name": "stderr",
     "output_type": "stream",
     "text": [
      "100%|████████████████████████████████████████████████████████████████████████████████| 688/688 [01:53<00:00,  6.06it/s]\n",
      "100%|███████████████████████████████████████████████████████████████████████████████| 688/688 [00:03<00:00, 182.46it/s]\n",
      "  0%|                                                                                  | 1/688 [00:00<01:44,  6.57it/s]"
     ]
    },
    {
     "name": "stdout",
     "output_type": "stream",
     "text": [
      "Replicate 5\n"
     ]
    },
    {
     "name": "stderr",
     "output_type": "stream",
     "text": [
      "100%|████████████████████████████████████████████████████████████████████████████████| 688/688 [01:54<00:00,  6.01it/s]\n",
      "100%|███████████████████████████████████████████████████████████████████████████████| 688/688 [00:03<00:00, 185.41it/s]\n"
     ]
    }
   ],
   "source": [
    "axs = eval_spikes(5)\n",
    "print(axs.shape)\n",
    "animate3d(axs,5)"
   ]
  },
  {
   "cell_type": "code",
   "execution_count": 18,
   "metadata": {},
   "outputs": [
    {
     "name": "stderr",
     "output_type": "stream",
     "text": [
      "  0%|                                                                                  | 1/688 [00:00<01:38,  7.00it/s]"
     ]
    },
    {
     "name": "stdout",
     "output_type": "stream",
     "text": [
      "(5, 2, 34860)\n",
      "Replicate 1\n"
     ]
    },
    {
     "name": "stderr",
     "output_type": "stream",
     "text": [
      "100%|████████████████████████████████████████████████████████████████████████████████| 688/688 [01:39<00:00,  6.89it/s]\n",
      "100%|███████████████████████████████████████████████████████████████████████████████| 688/688 [00:03<00:00, 188.36it/s]\n",
      "  0%|                                                                                  | 1/688 [00:00<01:30,  7.59it/s]"
     ]
    },
    {
     "name": "stdout",
     "output_type": "stream",
     "text": [
      "Replicate 2\n"
     ]
    },
    {
     "name": "stderr",
     "output_type": "stream",
     "text": [
      "100%|████████████████████████████████████████████████████████████████████████████████| 688/688 [01:40<00:00,  6.83it/s]\n",
      "100%|███████████████████████████████████████████████████████████████████████████████| 688/688 [00:03<00:00, 188.33it/s]\n",
      "  0%|                                                                                          | 0/688 [00:00<?, ?it/s]"
     ]
    },
    {
     "name": "stdout",
     "output_type": "stream",
     "text": [
      "Replicate 3\n"
     ]
    },
    {
     "name": "stderr",
     "output_type": "stream",
     "text": [
      "100%|████████████████████████████████████████████████████████████████████████████████| 688/688 [01:52<00:00,  6.13it/s]\n",
      "100%|███████████████████████████████████████████████████████████████████████████████| 688/688 [00:03<00:00, 185.70it/s]\n",
      "  0%|                                                                                  | 1/688 [00:00<01:30,  7.61it/s]"
     ]
    },
    {
     "name": "stdout",
     "output_type": "stream",
     "text": [
      "Replicate 4\n"
     ]
    },
    {
     "name": "stderr",
     "output_type": "stream",
     "text": [
      "100%|████████████████████████████████████████████████████████████████████████████████| 688/688 [01:40<00:00,  6.84it/s]\n",
      "100%|███████████████████████████████████████████████████████████████████████████████| 688/688 [00:03<00:00, 186.60it/s]\n",
      "  0%|                                                                                  | 1/688 [00:00<01:32,  7.42it/s]"
     ]
    },
    {
     "name": "stdout",
     "output_type": "stream",
     "text": [
      "Replicate 5\n"
     ]
    },
    {
     "name": "stderr",
     "output_type": "stream",
     "text": [
      "100%|████████████████████████████████████████████████████████████████████████████████| 688/688 [01:39<00:00,  6.90it/s]\n",
      "100%|███████████████████████████████████████████████████████████████████████████████| 688/688 [00:03<00:00, 172.84it/s]\n"
     ]
    }
   ],
   "source": [
    "axs = eval_spikes(6)\n",
    "print(axs.shape)\n",
    "animate2d(axs,6)"
   ]
  },
  {
   "cell_type": "code",
   "execution_count": 19,
   "metadata": {},
   "outputs": [
    {
     "name": "stderr",
     "output_type": "stream",
     "text": [
      "  0%|                                                                                  | 1/688 [00:00<01:48,  6.31it/s]"
     ]
    },
    {
     "name": "stdout",
     "output_type": "stream",
     "text": [
      "(5, 3, 34860)\n",
      "Replicate 1\n"
     ]
    },
    {
     "name": "stderr",
     "output_type": "stream",
     "text": [
      "100%|████████████████████████████████████████████████████████████████████████████████| 688/688 [01:55<00:00,  5.96it/s]\n",
      "100%|███████████████████████████████████████████████████████████████████████████████| 688/688 [00:03<00:00, 184.61it/s]\n",
      "  0%|                                                                                          | 0/688 [00:00<?, ?it/s]"
     ]
    },
    {
     "name": "stdout",
     "output_type": "stream",
     "text": [
      "Replicate 2\n"
     ]
    },
    {
     "name": "stderr",
     "output_type": "stream",
     "text": [
      "100%|████████████████████████████████████████████████████████████████████████████████| 688/688 [01:54<00:00,  5.99it/s]\n",
      "100%|███████████████████████████████████████████████████████████████████████████████| 688/688 [00:03<00:00, 184.17it/s]\n",
      "  0%|                                                                                          | 0/688 [00:00<?, ?it/s]"
     ]
    },
    {
     "name": "stdout",
     "output_type": "stream",
     "text": [
      "Replicate 3\n"
     ]
    },
    {
     "name": "stderr",
     "output_type": "stream",
     "text": [
      "100%|████████████████████████████████████████████████████████████████████████████████| 688/688 [02:00<00:00,  5.70it/s]\n",
      "100%|███████████████████████████████████████████████████████████████████████████████| 688/688 [00:03<00:00, 186.39it/s]\n",
      "  0%|                                                                                  | 1/688 [00:00<01:47,  6.39it/s]"
     ]
    },
    {
     "name": "stdout",
     "output_type": "stream",
     "text": [
      "Replicate 4\n"
     ]
    },
    {
     "name": "stderr",
     "output_type": "stream",
     "text": [
      "100%|████████████████████████████████████████████████████████████████████████████████| 688/688 [01:54<00:00,  6.02it/s]\n",
      "100%|███████████████████████████████████████████████████████████████████████████████| 688/688 [00:03<00:00, 185.49it/s]\n",
      "  0%|                                                                                  | 1/688 [00:00<01:43,  6.63it/s]"
     ]
    },
    {
     "name": "stdout",
     "output_type": "stream",
     "text": [
      "Replicate 5\n"
     ]
    },
    {
     "name": "stderr",
     "output_type": "stream",
     "text": [
      "100%|████████████████████████████████████████████████████████████████████████████████| 688/688 [01:55<00:00,  5.96it/s]\n",
      "100%|███████████████████████████████████████████████████████████████████████████████| 688/688 [00:04<00:00, 168.00it/s]\n"
     ]
    }
   ],
   "source": [
    "axs = eval_spikes(7)\n",
    "print(axs.shape)\n",
    "animate3d(axs,7)"
   ]
  },
  {
   "cell_type": "code",
   "execution_count": 20,
   "metadata": {},
   "outputs": [
    {
     "name": "stderr",
     "output_type": "stream",
     "text": [
      "\r",
      "  0%|                                                                                          | 0/688 [00:00<?, ?it/s]"
     ]
    },
    {
     "name": "stdout",
     "output_type": "stream",
     "text": [
      "(5, 2, 34860)\n",
      "Replicate 1\n"
     ]
    },
    {
     "name": "stderr",
     "output_type": "stream",
     "text": [
      "100%|████████████████████████████████████████████████████████████████████████████████| 688/688 [01:38<00:00,  6.98it/s]\n",
      "100%|███████████████████████████████████████████████████████████████████████████████| 688/688 [00:03<00:00, 187.79it/s]\n",
      "  0%|                                                                                  | 1/688 [00:00<01:32,  7.43it/s]"
     ]
    },
    {
     "name": "stdout",
     "output_type": "stream",
     "text": [
      "Replicate 2\n"
     ]
    },
    {
     "name": "stderr",
     "output_type": "stream",
     "text": [
      "100%|████████████████████████████████████████████████████████████████████████████████| 688/688 [01:38<00:00,  6.97it/s]\n",
      "100%|███████████████████████████████████████████████████████████████████████████████| 688/688 [00:03<00:00, 187.82it/s]\n",
      "  0%|                                                                                  | 1/688 [00:00<01:37,  7.01it/s]"
     ]
    },
    {
     "name": "stdout",
     "output_type": "stream",
     "text": [
      "Replicate 3\n"
     ]
    },
    {
     "name": "stderr",
     "output_type": "stream",
     "text": [
      "100%|████████████████████████████████████████████████████████████████████████████████| 688/688 [01:44<00:00,  6.60it/s]\n",
      "100%|███████████████████████████████████████████████████████████████████████████████| 688/688 [00:04<00:00, 168.72it/s]\n",
      "  0%|                                                                                  | 1/688 [00:00<01:31,  7.54it/s]"
     ]
    },
    {
     "name": "stdout",
     "output_type": "stream",
     "text": [
      "Replicate 4\n"
     ]
    },
    {
     "name": "stderr",
     "output_type": "stream",
     "text": [
      "100%|████████████████████████████████████████████████████████████████████████████████| 688/688 [01:38<00:00,  6.98it/s]\n",
      "100%|███████████████████████████████████████████████████████████████████████████████| 688/688 [00:03<00:00, 189.47it/s]\n",
      "  0%|                                                                                  | 1/688 [00:00<01:50,  6.23it/s]"
     ]
    },
    {
     "name": "stdout",
     "output_type": "stream",
     "text": [
      "Replicate 5\n"
     ]
    },
    {
     "name": "stderr",
     "output_type": "stream",
     "text": [
      "100%|████████████████████████████████████████████████████████████████████████████████| 688/688 [01:38<00:00,  6.96it/s]\n",
      "100%|███████████████████████████████████████████████████████████████████████████████| 688/688 [00:03<00:00, 189.30it/s]\n"
     ]
    }
   ],
   "source": [
    "axs = eval_spikes(8)\n",
    "print(axs.shape)\n",
    "animate2d(axs,8)"
   ]
  },
  {
   "cell_type": "code",
   "execution_count": 21,
   "metadata": {},
   "outputs": [
    {
     "name": "stderr",
     "output_type": "stream",
     "text": [
      "  0%|                                                                                  | 1/688 [00:00<01:44,  6.55it/s]"
     ]
    },
    {
     "name": "stdout",
     "output_type": "stream",
     "text": [
      "(5, 3, 34860)\n",
      "Replicate 1\n"
     ]
    },
    {
     "name": "stderr",
     "output_type": "stream",
     "text": [
      "100%|████████████████████████████████████████████████████████████████████████████████| 688/688 [01:54<00:00,  5.98it/s]\n",
      "100%|███████████████████████████████████████████████████████████████████████████████| 688/688 [00:03<00:00, 185.79it/s]\n",
      "  0%|                                                                                          | 0/688 [00:00<?, ?it/s]"
     ]
    },
    {
     "name": "stdout",
     "output_type": "stream",
     "text": [
      "Replicate 2\n"
     ]
    },
    {
     "name": "stderr",
     "output_type": "stream",
     "text": [
      "100%|████████████████████████████████████████████████████████████████████████████████| 688/688 [01:55<00:00,  5.95it/s]\n",
      "100%|███████████████████████████████████████████████████████████████████████████████| 688/688 [00:03<00:00, 188.65it/s]\n",
      "  0%|                                                                                          | 0/688 [00:00<?, ?it/s]"
     ]
    },
    {
     "name": "stdout",
     "output_type": "stream",
     "text": [
      "Replicate 3\n"
     ]
    },
    {
     "name": "stderr",
     "output_type": "stream",
     "text": [
      "100%|████████████████████████████████████████████████████████████████████████████████| 688/688 [02:00<00:00,  5.71it/s]\n",
      "100%|███████████████████████████████████████████████████████████████████████████████| 688/688 [00:03<00:00, 179.92it/s]\n",
      "  0%|                                                                                  | 1/688 [00:00<01:40,  6.86it/s]"
     ]
    },
    {
     "name": "stdout",
     "output_type": "stream",
     "text": [
      "Replicate 4\n"
     ]
    },
    {
     "name": "stderr",
     "output_type": "stream",
     "text": [
      "100%|████████████████████████████████████████████████████████████████████████████████| 688/688 [01:55<00:00,  5.95it/s]\n",
      "100%|███████████████████████████████████████████████████████████████████████████████| 688/688 [00:03<00:00, 183.45it/s]\n",
      "  0%|                                                                                  | 1/688 [00:00<01:42,  6.68it/s]"
     ]
    },
    {
     "name": "stdout",
     "output_type": "stream",
     "text": [
      "Replicate 5\n"
     ]
    },
    {
     "name": "stderr",
     "output_type": "stream",
     "text": [
      "100%|████████████████████████████████████████████████████████████████████████████████| 688/688 [01:56<00:00,  5.89it/s]\n",
      "100%|███████████████████████████████████████████████████████████████████████████████| 688/688 [00:03<00:00, 181.38it/s]\n"
     ]
    }
   ],
   "source": [
    "axs = eval_spikes(9)\n",
    "print(axs.shape)\n",
    "animate3d(axs,9)"
   ]
  },
  {
   "cell_type": "code",
   "execution_count": 22,
   "metadata": {},
   "outputs": [
    {
     "name": "stderr",
     "output_type": "stream",
     "text": [
      "  0%|                                                                                  | 1/688 [00:00<01:28,  7.73it/s]"
     ]
    },
    {
     "name": "stdout",
     "output_type": "stream",
     "text": [
      "(5, 2, 34860)\n",
      "Replicate 1\n"
     ]
    },
    {
     "name": "stderr",
     "output_type": "stream",
     "text": [
      "100%|████████████████████████████████████████████████████████████████████████████████| 688/688 [01:39<00:00,  6.95it/s]\n",
      "100%|███████████████████████████████████████████████████████████████████████████████| 688/688 [00:04<00:00, 169.59it/s]\n",
      "  0%|                                                                                  | 1/688 [00:00<01:30,  7.60it/s]"
     ]
    },
    {
     "name": "stdout",
     "output_type": "stream",
     "text": [
      "Replicate 2\n"
     ]
    },
    {
     "name": "stderr",
     "output_type": "stream",
     "text": [
      "100%|████████████████████████████████████████████████████████████████████████████████| 688/688 [01:39<00:00,  6.90it/s]\n",
      "100%|███████████████████████████████████████████████████████████████████████████████| 688/688 [00:04<00:00, 168.65it/s]\n",
      "  0%|                                                                                  | 1/688 [00:00<01:34,  7.27it/s]"
     ]
    },
    {
     "name": "stdout",
     "output_type": "stream",
     "text": [
      "Replicate 3\n"
     ]
    },
    {
     "name": "stderr",
     "output_type": "stream",
     "text": [
      "100%|████████████████████████████████████████████████████████████████████████████████| 688/688 [01:44<00:00,  6.62it/s]\n",
      "100%|███████████████████████████████████████████████████████████████████████████████| 688/688 [00:03<00:00, 184.90it/s]\n",
      "  0%|                                                                                  | 1/688 [00:00<01:29,  7.64it/s]"
     ]
    },
    {
     "name": "stdout",
     "output_type": "stream",
     "text": [
      "Replicate 4\n"
     ]
    },
    {
     "name": "stderr",
     "output_type": "stream",
     "text": [
      "100%|████████████████████████████████████████████████████████████████████████████████| 688/688 [01:39<00:00,  6.93it/s]\n",
      "100%|███████████████████████████████████████████████████████████████████████████████| 688/688 [00:03<00:00, 183.39it/s]\n",
      "  0%|                                                                                  | 1/688 [00:00<01:34,  7.30it/s]"
     ]
    },
    {
     "name": "stdout",
     "output_type": "stream",
     "text": [
      "Replicate 5\n"
     ]
    },
    {
     "name": "stderr",
     "output_type": "stream",
     "text": [
      "100%|████████████████████████████████████████████████████████████████████████████████| 688/688 [01:40<00:00,  6.82it/s]\n",
      "100%|███████████████████████████████████████████████████████████████████████████████| 688/688 [00:03<00:00, 190.52it/s]\n"
     ]
    }
   ],
   "source": [
    "axs = eval_spikes(10)\n",
    "print(axs.shape)\n",
    "animate2d(axs,10)"
   ]
  },
  {
   "cell_type": "code",
   "execution_count": 23,
   "metadata": {},
   "outputs": [
    {
     "name": "stderr",
     "output_type": "stream",
     "text": [
      "100%|████████████████████████████████████████████████████████████████████████████████| 688/688 [01:37<00:00,  7.08it/s]\n",
      "100%|████████████████████████████████████████████████████████████████████████████████| 688/688 [01:31<00:00,  7.48it/s]\n",
      "100%|████████████████████████████████████████████████████████████████████████████████| 688/688 [01:33<00:00,  7.38it/s]\n",
      "100%|████████████████████████████████████████████████████████████████████████████████| 688/688 [01:35<00:00,  7.20it/s]\n",
      "100%|████████████████████████████████████████████████████████████████████████████████| 688/688 [01:35<00:00,  7.22it/s]\n",
      "100%|████████████████████████████████████████████████████████████████████████████████| 688/688 [01:28<00:00,  7.74it/s]\n",
      "100%|████████████████████████████████████████████████████████████████████████████████| 688/688 [01:30<00:00,  7.56it/s]\n",
      "100%|████████████████████████████████████████████████████████████████████████████████| 688/688 [01:31<00:00,  7.54it/s]\n",
      "100%|████████████████████████████████████████████████████████████████████████████████| 688/688 [01:37<00:00,  7.09it/s]\n",
      "100%|████████████████████████████████████████████████████████████████████████████████| 688/688 [01:29<00:00,  7.70it/s]\n"
     ]
    }
   ],
   "source": [
    "for graphno in range(1,11):\n",
    "    gifs = [imageio.get_reader(f'Videos/{x}') for x in filter(lambda v: f\"_{graphno}_\" in v,os.listdir(\"Videos/\"))]\n",
    "    new_gif = imageio.get_writer(f'Videos/{graphno}_out.gif',fps=20)\n",
    "    for frame_number in tqdm(range(np.min([gif.get_length() for gif in gifs]))):\n",
    "        datas = [gif.get_next_data() for gif in gifs]\n",
    "        new_image = np.hstack(datas)\n",
    "        new_gif.append_data(new_image)\n",
    "    for gif in gifs:\n",
    "        gif.close()\n",
    "    new_gif.close()"
   ]
  },
  {
   "cell_type": "code",
   "execution_count": 25,
   "metadata": {},
   "outputs": [
    {
     "name": "stderr",
     "output_type": "stream",
     "text": [
      "100%|████████████████████████████████████████████████████████████████████████████████| 688/688 [03:39<00:00,  3.14it/s]\n",
      "100%|████████████████████████████████████████████████████████████████████████████████| 688/688 [03:48<00:00,  3.01it/s]\n",
      "100%|████████████████████████████████████████████████████████████████████████████████| 688/688 [03:54<00:00,  2.93it/s]\n",
      "100%|████████████████████████████████████████████████████████████████████████████████| 688/688 [03:54<00:00,  2.94it/s]\n",
      "100%|████████████████████████████████████████████████████████████████████████████████| 688/688 [03:41<00:00,  3.10it/s]\n"
     ]
    }
   ],
   "source": [
    "files = list(filter(lambda v: \"_out\" in v,os.listdir(\"Videos/\")))\n",
    "files.sort(key=lambda f: int(re.sub('\\D', '', f)))\n",
    "for graphno in range(1,11,2):\n",
    "    gifs = [imageio.get_reader(f'Videos/{x}') for x in files[graphno-1:graphno+1]]\n",
    "    new_gif = imageio.get_writer(f'Videos/{graphno}_{graphno+1}.gif',fps=20)\n",
    "    for frame_number in tqdm(range(np.min([gif.get_length() for gif in gifs]))):\n",
    "        datas = [gif.get_next_data() for gif in gifs]\n",
    "        new_image = np.vstack(datas)\n",
    "        new_gif.append_data(new_image)\n",
    "    for gif in gifs:\n",
    "        gif.close()\n",
    "    new_gif.close()"
   ]
  },
  {
   "cell_type": "code",
   "execution_count": null,
   "metadata": {},
   "outputs": [],
   "source": []
  },
  {
   "cell_type": "code",
   "execution_count": 5,
   "metadata": {},
   "outputs": [
    {
     "name": "stderr",
     "output_type": "stream",
     "text": [
      "<ipython-input-5-a9981be1b5cb>:21: VisibleDeprecationWarning: Creating an ndarray from ragged nested sequences (which is a list-or-tuple of lists-or-tuples-or ndarrays with different lengths or shapes) is deprecated. If you meant to do this, you must specify 'dtype=object' when creating the ndarray.\n",
      "  spike_times = np.array(spike_times)\n"
     ]
    }
   ],
   "source": [
    "graphno = 2\n",
    "mat = np.loadtxt(f'../modules/networks/matrix_{graphno}.csv',delimiter=\",\")\n",
    "module = np.loadtxt(f'../modules/networks/matrix_{graphno}_modules.csv')\n",
    "order = np.argsort(module)\n",
    "\n",
    "all_events = []\n",
    "for pertseed in [59428,13674,84932,72957,85036]:\n",
    "    events = np.load(f\"../Fig 2/Data/LN30_events_{graphno}_{pertseed}.npy\",allow_pickle=True)\n",
    "    all_events.append(events)\n",
    "all_events = np.array(all_events,dtype=object)\n",
    "\n",
    "axs = []\n",
    "for rep in range(5):\n",
    "    spike_times = []\n",
    "    for i in range(30):\n",
    "        spike_times.append(SpikeTrain(np.concatenate([all_events[0,rep,i],\n",
    "                                           all_events[1,rep,i]+7000,\n",
    "                                           all_events[2,rep,i]+14000,\n",
    "                                           all_events[3,rep,i]+21000,\n",
    "                                           all_events[4,rep,i]+28000])*q.ms,t_stop=35000*q.ms))\n",
    "    spike_times = np.array(spike_times)\n",
    "    bst = eph.conversion.BinnedSpikeTrain(list(spike_times),bin_size=50*q.ms)\n",
    "    axes = []\n",
    "    for i in np.unique(module):\n",
    "        temp = np.mean(bst.to_array()[np.arange(30)[module==i],:],axis=0)\n",
    "        axes.append(temp)\n",
    "    axs.append(axes)\n",
    "axs = np.array(axs)"
   ]
  },
  {
   "cell_type": "code",
   "execution_count": 637,
   "metadata": {},
   "outputs": [],
   "source": [
    "# axs_backup = axs.copy()\n",
    "# if axs.shape[1] == 2:\n",
    "#     axs = np.concatenate([np.zeros((axs.shape[0],1,axs.shape[2])),axs],axis=1)\n",
    "# if axs.shape[1] == 4:\n",
    "#     axs = axs[:,np.argsort(axs.std(axis=(0,2)))[:3],:]"
   ]
  },
  {
   "cell_type": "code",
   "execution_count": 24,
   "metadata": {},
   "outputs": [
    {
     "name": "stderr",
     "output_type": "stream",
     "text": [
      "100%|████████████████████████████████████████████████████████████████████████████████| 690/690 [01:44<00:00,  6.62it/s]\n"
     ]
    }
   ],
   "source": []
  },
  {
   "cell_type": "code",
   "execution_count": 25,
   "metadata": {},
   "outputs": [
    {
     "name": "stderr",
     "output_type": "stream",
     "text": [
      "100%|███████████████████████████████████████████████████████████████████████████████| 690/690 [00:03<00:00, 200.10it/s]\n"
     ]
    },
    {
     "name": "stdout",
     "output_type": "stream",
     "text": [
      "Movie Rendered.\n"
     ]
    }
   ],
   "source": [
    "import imageio\n",
    "images = []\n",
    "files = os.listdir('anim')\n",
    "files.sort(key=lambda f: int(re.sub('\\D', '', f)))\n",
    "for filename in tqdm(files):\n",
    "    images.append(imageio.imread('anim/'+filename))\n",
    "imageio.mimsave(f'movie_{graphno}_{rep}.gif', images,fps=20)\n",
    "for file in os.listdir('anim/'):\n",
    "    os.remove('anim/'+file)\n",
    "print(\"Movie Rendered.\")"
   ]
  },
  {
   "cell_type": "code",
   "execution_count": null,
   "metadata": {},
   "outputs": [],
   "source": []
  },
  {
   "cell_type": "code",
   "execution_count": 374,
   "metadata": {},
   "outputs": [
    {
     "name": "stderr",
     "output_type": "stream",
     "text": [
      "<ipython-input-374-451366bcf723>:22: VisibleDeprecationWarning: Creating an ndarray from ragged nested sequences (which is a list-or-tuple of lists-or-tuples-or ndarrays with different lengths or shapes) is deprecated. If you meant to do this, you must specify 'dtype=object' when creating the ndarray.\n",
      "  spike_times = np.array(spike_times)\n",
      "<ipython-input-374-451366bcf723>:22: VisibleDeprecationWarning: Creating an ndarray from ragged nested sequences (which is a list-or-tuple of lists-or-tuples-or ndarrays with different lengths or shapes) is deprecated. If you meant to do this, you must specify 'dtype=object' when creating the ndarray.\n",
      "  spike_times = np.array(spike_times)\n",
      "<ipython-input-374-451366bcf723>:22: VisibleDeprecationWarning: Creating an ndarray from ragged nested sequences (which is a list-or-tuple of lists-or-tuples-or ndarrays with different lengths or shapes) is deprecated. If you meant to do this, you must specify 'dtype=object' when creating the ndarray.\n",
      "  spike_times = np.array(spike_times)\n",
      "<ipython-input-374-451366bcf723>:22: VisibleDeprecationWarning: Creating an ndarray from ragged nested sequences (which is a list-or-tuple of lists-or-tuples-or ndarrays with different lengths or shapes) is deprecated. If you meant to do this, you must specify 'dtype=object' when creating the ndarray.\n",
      "  spike_times = np.array(spike_times)\n",
      "<ipython-input-374-451366bcf723>:22: VisibleDeprecationWarning: Creating an ndarray from ragged nested sequences (which is a list-or-tuple of lists-or-tuples-or ndarrays with different lengths or shapes) is deprecated. If you meant to do this, you must specify 'dtype=object' when creating the ndarray.\n",
      "  spike_times = np.array(spike_times)\n",
      "<ipython-input-374-451366bcf723>:51: RuntimeWarning: Mean of empty slice\n",
      "  ax.quiver(X, Y, np.nanmean(dx,axis=0), np.nanmean(dy,axis=0), units='xy' ,scale=0.5, color='k')\n"
     ]
    },
    {
     "data": {
      "text/plain": [
       "(-0.5, 10.5, -0.6000000000000001, 12.6)"
      ]
     },
     "execution_count": 374,
     "metadata": {},
     "output_type": "execute_result"
    },
    {
     "data": {
      "image/png": "[encoded data removed]",
      "text/plain": [
       "<Figure size 360x360 with 1 Axes>"
      ]
     },
     "metadata": {
      "needs_background": "light"
     },
     "output_type": "display_data"
    }
   ],
   "source": [
    "graphno = 2\n",
    "mat = np.loadtxt(f'../modules/networks/matrix_{graphno}.csv',delimiter=\",\")\n",
    "module = np.loadtxt(f'../modules/networks/matrix_{graphno}_modules.csv')\n",
    "order = np.argsort(module)\n",
    "all_events = []\n",
    "for pertseed in [59428,13674,84932,72957,85036]:\n",
    "    events = np.load(f\"../Fig 2/Data/LN30_events_{graphno}_{pertseed}.npy\",allow_pickle=True)\n",
    "    all_events.append(events)\n",
    "all_events = np.array(all_events,dtype=object)\n",
    "dx = []\n",
    "dy = []\n",
    "xax = []\n",
    "yax = []\n",
    "for rep in range(5):\n",
    "    spike_times = []\n",
    "    for i in range(30):\n",
    "        spike_times.append(SpikeTrain(np.concatenate([all_events[0,rep,i],\n",
    "                                           all_events[1,rep,i]+7000,\n",
    "                                           all_events[2,rep,i]+14000,\n",
    "                                           all_events[3,rep,i]+21000,\n",
    "                                           all_events[4,rep,i]+28000])*q.ms,t_stop=35000*q.ms))\n",
    "    spike_times = np.array(spike_times)\n",
    "    bst = eph.conversion.BinnedSpikeTrain(list(spike_times),bin_size=50*q.ms)\n",
    "    axes = []\n",
    "    daxes = []\n",
    "    for i in np.unique(module):\n",
    "        temp = np.mean(bst.to_array()[np.arange(30)[module==i],:],axis=0)\n",
    "        axes.append(temp)\n",
    "        daxes.append(np.diff(temp))\n",
    "    time = np.arange(0,35,0.05)\n",
    "    block = [False]*2+[True]*18\n",
    "    temp =  [True]*20 + block*5\n",
    "    temp = temp*5\n",
    "    for i in range(len(axes)):\n",
    "        axes[i] = axes[i][np.logical_and(time%7>=0.5,time%7<6.5)][temp]\n",
    "        daxes[i] = daxes[i][np.logical_and(time%7>=0.5,time%7<6.5)[:-1]][temp]\n",
    "    \n",
    "    df = pd.DataFrame(data=np.array([np.around(i,decimals=1) for i in axes[:2]]+daxes[:2]).T,columns=[\"X\",\"Y\",\"dX\",\"dY\"])\n",
    "    dX = df.pivot_table(index=\"X\",columns=\"Y\", values=\"dX\")\n",
    "    dY = df.pivot_table(index=\"X\",columns=\"Y\", values=\"dY\")\n",
    "    dx.append(dX.values)\n",
    "    dy.append(dY.values)\n",
    "    xax.append(dX.index.values)\n",
    "    xax.append(dY.index.values)\n",
    "    yax.append(dX.columns.values)\n",
    "    yax.append(dY.columns.values)\n",
    "xax = np.argsort(np.unique(np.concatenate(xax)))\n",
    "yax = np.argsort(np.unique(np.concatenate(yax)))\n",
    "X, Y = np.meshgrid(xax,yax)\n",
    "fig, ax = plt.subplots(figsize=(5,5))\n",
    "ax.quiver(X, Y, np.nanmean(dx,axis=0), np.nanmean(dy,axis=0), units='xy' ,scale=0.5, color='k')\n",
    "ax.axis('equal')"
   ]
  },
  {
   "cell_type": "code",
   "execution_count": 534,
   "metadata": {},
   "outputs": [
    {
     "data": {
      "text/plain": [
       "34.5"
      ]
     },
     "execution_count": 534,
     "metadata": {},
     "output_type": "execute_result"
    }
   ],
   "source": [
    "690*0.05"
   ]
  },
  {
   "cell_type": "code",
   "execution_count": 5,
   "metadata": {},
   "outputs": [
    {
     "name": "stderr",
     "output_type": "stream",
     "text": [
      "100%|█████████████████████████████████████████████████████████████████████████████████| 43/43 [00:00<00:00, 206.57it/s]\n",
      "IMAGEIO FFMPEG_WRITER WARNING: input image is not divisible by macro_block_size=16, resizing from (450, 630) to (464, 640) to ensure video compatibility with most codecs and players. To prevent resizing, make your input image divisible by the macro_block_size or set the macro_block_size to 1 (risking incompatibility).\n"
     ]
    }
   ],
   "source": [
    " images = []\n",
    "files = os.listdir('anim')\n",
    "files.sort(key=lambda f: int(re.sub('\\D', '', f)))\n",
    "for filename in tqdm(files):\n",
    "    images.append(imageio.imread('anim/'+filename))\n",
    "imageio.mimsave(f'Videos/movie_{1}_{1}.mp4', images,fps=20)\n",
    "\n",
    "for file in os.listdir('anim/'):\n",
    "    os.remove('anim/'+file)"
   ]
  },
  {
   "cell_type": "code",
   "execution_count": null,
   "metadata": {},
   "outputs": [],
   "source": []
  }
 ],
 "metadata": {
  "kernelspec": {
   "display_name": "odor-states",
   "language": "python",
   "name": "odor-states"
  },
  "language_info": {
   "codemirror_mode": {
    "name": "ipython",
    "version": 3
   },
   "file_extension": ".py",
   "mimetype": "text/x-python",
   "name": "python",
   "nbconvert_exporter": "python",
   "pygments_lexer": "ipython3",
   "version": "3.8.8"
  }
 },
 "nbformat": 4,
 "nbformat_minor": 4
}
