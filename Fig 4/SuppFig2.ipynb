{
 "cells": [
  {
   "cell_type": "code",
   "execution_count": 1,
   "metadata": {},
   "outputs": [],
   "source": [
    "from mpl_toolkits import mplot3d\n",
    "from neo.core import SpikeTrain\n",
    "from tqdm import tqdm\n",
    "import elephant as eph\n",
    "import imageio\n",
    "import matplotlib as mpl\n",
    "import matplotlib.gridspec as gridspec\n",
    "import matplotlib.pyplot as plt\n",
    "import numpy as np\n",
    "import os\n",
    "import pandas as pd\n",
    "import quantities as q\n",
    "import re \n",
    "import seaborn as sns\n",
    "mpl.rcParams.update({'font.size': 20})\n",
    "%config Completer.use_jedi = False"
   ]
  },
  {
   "cell_type": "code",
   "execution_count": 4,
   "metadata": {},
   "outputs": [],
   "source": [
    "def eval_spikes(graphno):\n",
    "    mat = np.loadtxt(f'../modules/networks/matrix_{graphno}.csv',delimiter=\",\")\n",
    "    module = np.loadtxt(f'../modules/networks/matrix_{graphno}_modules.csv')\n",
    "    order = np.argsort(module)\n",
    "\n",
    "    all_events = []\n",
    "    for pertseed in [59428,13674,84932,72957,85036]:\n",
    "        events = np.load(f\"../Fig 2/Data/LN30_events_{graphno}_{pertseed}.npy\",allow_pickle=True)\n",
    "        all_events.append(events)\n",
    "    all_events = np.array(all_events,dtype=object)\n",
    "\n",
    "    axs = []\n",
    "    for rep in range(5):\n",
    "        spike_times = []\n",
    "        for i in range(30):\n",
    "            spike_times.append(SpikeTrain(np.concatenate([all_events[0,rep,i],\n",
    "                                               all_events[1,rep,i]+7000,\n",
    "                                               all_events[2,rep,i]+14000,\n",
    "                                               all_events[3,rep,i]+21000,\n",
    "                                               all_events[4,rep,i]+28000])*q.ms,t_stop=35000*q.ms))\n",
    "        spike_times = np.array(spike_times)\n",
    "        bst = eph.conversion.BinnedSpikeTrain(list(spike_times),bin_size=50*q.ms)\n",
    "        axes = []\n",
    "        for i in np.unique(module):\n",
    "            temp = np.mean(bst.to_array()[np.arange(30)[module==i],:],axis=0)\n",
    "            axes.append(temp)\n",
    "        axs.append(axes)\n",
    "    axs = np.array(axs) \n",
    "    return axs\n",
    "def order_by_variability(axs):\n",
    "    axs = axs[:,np.argsort(axs.std(axis=(0,2)))[::-1],:]\n",
    "    return axs, [f\"M{mod+1}\" for mod in np.argsort(axs.std(axis=(0,2)))]"
   ]
  },
  {
   "cell_type": "code",
   "execution_count": 11,
   "metadata": {},
   "outputs": [],
   "source": [
    "def animate3d(data,graphno,nreps=5,labels=[\"M1\",\"M2\",\"M3\"]):\n",
    "    for rep in range(nreps):\n",
    "        print(f\"Replicate {rep+1}\")\n",
    "        lims = axs[rep][0].min(),axs[rep][0].max(),axs[rep][1].min(),axs[rep][1].max(),axs[rep][2].min(),axs[rep][2].max()\n",
    "        fig = plt.figure(figsize=(5,7))\n",
    "        G = gridspec.GridSpec(5, 1)\n",
    "\n",
    "        ax1 = fig.add_subplot(G[0:4], projection='3d')\n",
    "        ax1.text(-0.1, -0.1, -0.1, \"0\", color='k',fontdict={\"fontsize\":10})\n",
    "        ax1.quiver(0,0,0,lims[1],0,0,arrow_length_ratio=0.1,color='k')\n",
    "        ax1.text(lims[1]+0.05, -0.05, -0.05, labels[0] , color='k',fontdict={\"fontsize\":10})\n",
    "        ax1.quiver(0,0,0,0,lims[3],0,arrow_length_ratio=0.1,color='k')\n",
    "        ax1.text(-0.05,lims[3]+0.05,-0.05, labels[1], color='k',fontdict={\"fontsize\":10})\n",
    "        ax1.quiver(0,0,0,0,0,lims[5],arrow_length_ratio=0.1,color='k')\n",
    "        ax1.text(-0.05,-0.05,lims[5]+0.05, labels[2], color='k',fontdict={\"fontsize\":10})\n",
    "        ax1.set_xlim(lims[0],lims[1])\n",
    "        ax1.set_ylim(lims[2],lims[3])\n",
    "        ax1.set_zlim(lims[4],lims[5])\n",
    "        ax1.set_axis_off()\n",
    "        ax1.xaxis.set_pane_color((1.0, 1.0, 1.0, 0.0))\n",
    "        ax1.yaxis.set_pane_color((1.0, 1.0, 1.0, 0.0))\n",
    "        ax1.zaxis.set_pane_color((1.0, 1.0, 1.0, 0.0))\n",
    "        ax1.xaxis._axinfo[\"grid\"]['color'] =  (1,1,1,0)\n",
    "        ax1.yaxis._axinfo[\"grid\"]['color'] =  (1,1,1,0)\n",
    "        ax1.zaxis._axinfo[\"grid\"]['color'] =  (1,1,1,0)\n",
    "\n",
    "        line = ax1.plot3D(0, 0, 0, 'gray',linewidth=1)\n",
    "        dot = ax1.plot3D(0, 0, 0,marker='o',color='k')\n",
    "\n",
    "        tim = ax1.text2D(0.4,0.05,\"t=0.0s\",transform=ax1.transAxes,fontsize=10)\n",
    "\n",
    "        ax2 = fig.add_subplot(G[4])\n",
    "        tracks = []\n",
    "        endpoint = []\n",
    "        for i in range(axs.shape[1]):\n",
    "            a = ax2.plot(np.arange(0,0.05*1,0.05),axs[rep][0][0],\"-\",color=plt.cm.inferno(i/axs.shape[1]),linewidth=0.5,label=f'M{i+1}')\n",
    "            tracks.append(a)\n",
    "            a = ax2.plot(0,0,\"o\",color=plt.cm.inferno(i/axs.shape[1]))\n",
    "            endpoint.append(a)\n",
    "        plt.legend(loc='upper center', bbox_to_anchor=(0.5, 1.05),\n",
    "                  ncol=axs.shape[1], fontsize=10, frameon=False)\n",
    "        ax2.set_xlim((0,35))\n",
    "        ax2.set_ylim((0,1.2*np.max([lims[1],lims[3],lims[5]])))\n",
    "        ax2.set_xlabel(\"Time (in s)\")\n",
    "        ax2.set_ylabel(\"Mean Activity\")\n",
    "\n",
    "        perts = []\n",
    "        for i in range(5):\n",
    "            for j in range(5):\n",
    "                perts.append(7*i+1.5+j)\n",
    "        pert_counter = 0\n",
    "\n",
    "        plt.subplots_adjust(wspace=0.0,hspace=0.0)\n",
    "\n",
    "        for i in tqdm(range(10,axs.shape[2])):\n",
    "            tim.set_text(f\"t = {i/20:0.3f}s\")\n",
    "            tim.set_color(\"black\")\n",
    "            if pert_counter<len(perts) and perts[pert_counter]<i/20:\n",
    "                ax2.fill_betweenx((0,1.2*np.max([lims[1],lims[3],lims[5]])),perts[pert_counter],perts[pert_counter]+0.1,color='k',alpha=0.1)\n",
    "                pert_counter+=1\n",
    "                tim.set_text(f\"t = {i/20:0.3f} s\")\n",
    "                tim.set_color(\"red\")\n",
    "            xline = axs[rep][0][i-10:i]\n",
    "            yline = axs[rep][1][i-10:i]\n",
    "            zline = axs[rep][2][i-10:i]\n",
    "            line[0].set_data_3d(xline, yline, zline)\n",
    "            dot[0].set_data_3d(xline[-1], yline[-1], zline[-1])\n",
    "            plt.gca().spines['top'].set_visible(False)\n",
    "            plt.gca().spines['right'].set_visible(False)\n",
    "            ax1.view_init(elev=20, azim=i*0.3)\n",
    "            for j in range(axs.shape[1]):\n",
    "                tracks[j][0].set_xdata(np.arange(i)/20)\n",
    "                tracks[j][0].set_ydata(axs[rep][j][:i])\n",
    "                endpoint[j][0].set_xdata(i/20)\n",
    "                endpoint[j][0].set_ydata(axs[rep][j][i])\n",
    "            plt.savefig(f\"anim/{i}.png\", dpi=90)\n",
    "        plt.close()\n",
    "        \n",
    "        images = []\n",
    "        files = os.listdir('anim')\n",
    "        files.sort(key=lambda f: int(re.sub('\\D', '', f)))\n",
    "        for filename in tqdm(files):\n",
    "            images.append(imageio.imread('anim/'+filename))\n",
    "        imageio.mimsave(f'Videos/movie_{graphno}_{rep}.gif', images,fps=20)\n",
    "        \n",
    "        for file in os.listdir('anim/'):\n",
    "            os.remove('anim/'+file)\n",
    "\n",
    "def animate2d(data,graphno,nreps=5,labels=[\"M1\",\"M2\"]):\n",
    "    for rep in range(nreps):\n",
    "        print(f\"Replicate {rep+1}\")\n",
    "        lims = axs[rep][0].min(),axs[rep][0].max(),axs[rep][1].min(),axs[rep][1].max()\n",
    "        fig = plt.figure(figsize=(5,7))\n",
    "        G = gridspec.GridSpec(5, 1)\n",
    "\n",
    "        ax1 = fig.add_subplot(G[0:4])\n",
    "        ax1.set_xlim(lims[0],lims[1])\n",
    "        ax1.set_ylim(lims[2],lims[3])\n",
    "        ax1.set_xticks([lims[0],lims[1]])\n",
    "        ax1.set_xticklabels([\"0\",labels[0]])\n",
    "        ax1.set_yticks([lims[2],lims[3]])\n",
    "        ax1.set_yticklabels([\"\",labels[1]])\n",
    "        line = ax1.plot(0, 0, 'gray',linewidth=1)\n",
    "        dot = ax1.plot(0, 0, marker='o',color='k')\n",
    "\n",
    "        tim = ax1.text(0.4,0.05,\"t=0.0s\",transform=ax1.transAxes,fontsize=10)\n",
    "        ax1.spines['right'].set_visible(False)\n",
    "        ax1.spines['top'].set_visible(False)\n",
    "\n",
    "        ax2 = fig.add_subplot(G[4])\n",
    "        tracks = []\n",
    "        endpoint = []\n",
    "        for i in range(axs.shape[1]):\n",
    "            a = ax2.plot(np.arange(0,0.05*1,0.05),axs[rep][0][0],\"-\",color=plt.cm.inferno(i/axs.shape[1]),linewidth=0.5,label=f'M{i+1}')\n",
    "            tracks.append(a)\n",
    "            a = ax2.plot(0,0,\"o\",color=plt.cm.inferno(i/axs.shape[1]))\n",
    "            endpoint.append(a)\n",
    "        plt.legend(loc='upper center', bbox_to_anchor=(0.5, 1.05),\n",
    "                  ncol=3, fontsize=10, frameon=False)\n",
    "        ax2.set_xlim((0,35))\n",
    "        ax2.set_ylim((0,1.2*np.max([lims[1],lims[3]])))\n",
    "        ax2.set_xlabel(\"Time (in s)\")\n",
    "        ax2.set_ylabel(\"Mean Activity\")\n",
    "\n",
    "        perts = []\n",
    "        for i in range(5):\n",
    "            for j in range(5):\n",
    "                perts.append(7*i+1.5+j)\n",
    "        pert_counter = 0\n",
    "\n",
    "        plt.subplots_adjust(wspace=0.0,hspace=0.5)\n",
    "\n",
    "        for i in tqdm(range(10,axs.shape[2])):\n",
    "            tim.set_text(f\"t = {i/20:0.3f}s\")\n",
    "            tim.set_color(\"black\")\n",
    "            if pert_counter<len(perts) and perts[pert_counter]<i/20:\n",
    "                ax2.fill_betweenx((0,1.2*np.max([lims[1],lims[3]])),perts[pert_counter],perts[pert_counter]+0.1,color='k',alpha=0.1)\n",
    "                pert_counter+=1\n",
    "                tim.set_text(f\"t = {i/20:0.3f} s\")\n",
    "                tim.set_color(\"red\")\n",
    "            xline = axs[rep][0][i-10:i]\n",
    "            yline = axs[rep][1][i-10:i]\n",
    "            line[0].set_data(xline, yline)\n",
    "            dot[0].set_data(xline[-1], yline[-1])\n",
    "            plt.gca().spines['top'].set_visible(False)\n",
    "            plt.gca().spines['right'].set_visible(False)\n",
    "            for j in range(axs.shape[1]):\n",
    "                tracks[j][0].set_xdata(np.arange(i)/20)\n",
    "                tracks[j][0].set_ydata(axs[rep][j][:i])\n",
    "                endpoint[j][0].set_xdata(i/20)\n",
    "                endpoint[j][0].set_ydata(axs[rep][j][i])\n",
    "            plt.savefig(f\"anim/{i}.png\", dpi=90)\n",
    "        plt.close()\n",
    "        \n",
    "        images = []\n",
    "        files = os.listdir('anim')\n",
    "        files.sort(key=lambda f: int(re.sub('\\D', '', f)))\n",
    "        for filename in tqdm(files):\n",
    "            images.append(imageio.imread('anim/'+filename))\n",
    "        imageio.mimsave(f'Videos/movie_{graphno}_{rep}.gif', images,fps=20)\n",
    "        \n",
    "        for file in os.listdir('anim/'):\n",
    "            os.remove('anim/'+file)"
   ]
  },
  {
   "cell_type": "code",
   "execution_count": 15,
   "metadata": {
    "scrolled": false
   },
   "outputs": [
    {
     "name": "stderr",
     "output_type": "stream",
     "text": [
      "<ipython-input-4-434cf04e5393>:21: VisibleDeprecationWarning: Creating an ndarray from ragged nested sequences (which is a list-or-tuple of lists-or-tuples-or ndarrays with different lengths or shapes) is deprecated. If you meant to do this, you must specify 'dtype=object' when creating the ndarray.\n",
      "  spike_times = np.array(spike_times)\n",
      "  0%|                                                                                  | 1/690 [00:00<01:48,  6.38it/s]"
     ]
    },
    {
     "name": "stdout",
     "output_type": "stream",
     "text": [
      "(5, 4, 700)\n",
      "Replicate 1\n"
     ]
    },
    {
     "name": "stderr",
     "output_type": "stream",
     "text": [
      "100%|████████████████████████████████████████████████████████████████████████████████| 690/690 [01:57<00:00,  5.86it/s]\n",
      "100%|███████████████████████████████████████████████████████████████████████████████| 690/690 [00:03<00:00, 176.16it/s]\n",
      "  0%|                                                                                          | 0/690 [00:00<?, ?it/s]"
     ]
    },
    {
     "name": "stdout",
     "output_type": "stream",
     "text": [
      "Replicate 2\n"
     ]
    },
    {
     "name": "stderr",
     "output_type": "stream",
     "text": [
      "100%|████████████████████████████████████████████████████████████████████████████████| 690/690 [01:57<00:00,  5.86it/s]\n",
      "100%|███████████████████████████████████████████████████████████████████████████████| 690/690 [00:04<00:00, 168.72it/s]\n",
      "  0%|                                                                                  | 1/690 [00:00<01:47,  6.40it/s]"
     ]
    },
    {
     "name": "stdout",
     "output_type": "stream",
     "text": [
      "Replicate 3\n"
     ]
    },
    {
     "name": "stderr",
     "output_type": "stream",
     "text": [
      "100%|████████████████████████████████████████████████████████████████████████████████| 690/690 [01:56<00:00,  5.91it/s]\n",
      "100%|███████████████████████████████████████████████████████████████████████████████| 690/690 [00:04<00:00, 168.89it/s]\n",
      "  0%|                                                                                  | 1/690 [00:00<01:49,  6.30it/s]"
     ]
    },
    {
     "name": "stdout",
     "output_type": "stream",
     "text": [
      "Replicate 4\n"
     ]
    },
    {
     "name": "stderr",
     "output_type": "stream",
     "text": [
      "100%|████████████████████████████████████████████████████████████████████████████████| 690/690 [01:58<00:00,  5.82it/s]\n",
      "100%|███████████████████████████████████████████████████████████████████████████████| 690/690 [00:03<00:00, 187.41it/s]\n",
      "  0%|                                                                                          | 0/690 [00:00<?, ?it/s]"
     ]
    },
    {
     "name": "stdout",
     "output_type": "stream",
     "text": [
      "Replicate 5\n"
     ]
    },
    {
     "name": "stderr",
     "output_type": "stream",
     "text": [
      "100%|████████████████████████████████████████████████████████████████████████████████| 690/690 [02:04<00:00,  5.54it/s]\n",
      "100%|███████████████████████████████████████████████████████████████████████████████| 690/690 [00:04<00:00, 153.89it/s]\n"
     ]
    }
   ],
   "source": [
    "axs = eval_spikes(1)\n",
    "print(axs.shape)\n",
    "axs,labels = order_by_variability(axs)\n",
    "animate3d(axs,1,labels=labels)"
   ]
  },
  {
   "cell_type": "code",
   "execution_count": 12,
   "metadata": {},
   "outputs": [
    {
     "name": "stderr",
     "output_type": "stream",
     "text": [
      "<ipython-input-4-434cf04e5393>:21: VisibleDeprecationWarning: Creating an ndarray from ragged nested sequences (which is a list-or-tuple of lists-or-tuples-or ndarrays with different lengths or shapes) is deprecated. If you meant to do this, you must specify 'dtype=object' when creating the ndarray.\n",
      "  spike_times = np.array(spike_times)\n",
      "  0%|                                                                                  | 1/690 [00:00<01:18,  8.80it/s]"
     ]
    },
    {
     "name": "stdout",
     "output_type": "stream",
     "text": [
      "(5, 2, 700)\n",
      "Replicate 1\n"
     ]
    },
    {
     "name": "stderr",
     "output_type": "stream",
     "text": [
      "100%|████████████████████████████████████████████████████████████████████████████████| 690/690 [01:36<00:00,  7.16it/s]\n",
      "100%|███████████████████████████████████████████████████████████████████████████████| 690/690 [00:03<00:00, 198.36it/s]\n",
      "  0%|                                                                                  | 1/690 [00:00<01:21,  8.50it/s]"
     ]
    },
    {
     "name": "stdout",
     "output_type": "stream",
     "text": [
      "Replicate 2\n"
     ]
    },
    {
     "name": "stderr",
     "output_type": "stream",
     "text": [
      "100%|████████████████████████████████████████████████████████████████████████████████| 690/690 [01:30<00:00,  7.64it/s]\n",
      "100%|███████████████████████████████████████████████████████████████████████████████| 690/690 [00:03<00:00, 189.83it/s]\n",
      "  0%|                                                                                  | 1/690 [00:00<01:26,  7.96it/s]"
     ]
    },
    {
     "name": "stdout",
     "output_type": "stream",
     "text": [
      "Replicate 3\n"
     ]
    },
    {
     "name": "stderr",
     "output_type": "stream",
     "text": [
      "100%|████████████████████████████████████████████████████████████████████████████████| 690/690 [01:33<00:00,  7.34it/s]\n",
      "100%|███████████████████████████████████████████████████████████████████████████████| 690/690 [00:04<00:00, 155.36it/s]\n",
      "  0%|                                                                                  | 1/690 [00:00<01:23,  8.22it/s]"
     ]
    },
    {
     "name": "stdout",
     "output_type": "stream",
     "text": [
      "Replicate 4\n"
     ]
    },
    {
     "name": "stderr",
     "output_type": "stream",
     "text": [
      "100%|████████████████████████████████████████████████████████████████████████████████| 690/690 [01:33<00:00,  7.37it/s]\n",
      "100%|███████████████████████████████████████████████████████████████████████████████| 690/690 [00:03<00:00, 192.29it/s]\n",
      "  0%|                                                                                  | 1/690 [00:00<01:25,  8.02it/s]"
     ]
    },
    {
     "name": "stdout",
     "output_type": "stream",
     "text": [
      "Replicate 5\n"
     ]
    },
    {
     "name": "stderr",
     "output_type": "stream",
     "text": [
      "100%|████████████████████████████████████████████████████████████████████████████████| 690/690 [01:37<00:00,  7.11it/s]\n",
      "100%|███████████████████████████████████████████████████████████████████████████████| 690/690 [00:03<00:00, 177.20it/s]\n"
     ]
    }
   ],
   "source": [
    "axs = eval_spikes(2)\n",
    "print(axs.shape)\n",
    "animate2d(axs,2)"
   ]
  },
  {
   "cell_type": "code",
   "execution_count": 13,
   "metadata": {},
   "outputs": [
    {
     "name": "stderr",
     "output_type": "stream",
     "text": [
      "<ipython-input-4-434cf04e5393>:21: VisibleDeprecationWarning: Creating an ndarray from ragged nested sequences (which is a list-or-tuple of lists-or-tuples-or ndarrays with different lengths or shapes) is deprecated. If you meant to do this, you must specify 'dtype=object' when creating the ndarray.\n",
      "  spike_times = np.array(spike_times)\n",
      "  0%|                                                                                  | 1/690 [00:00<01:34,  7.26it/s]"
     ]
    },
    {
     "name": "stdout",
     "output_type": "stream",
     "text": [
      "(5, 2, 700)\n",
      "Replicate 1\n"
     ]
    },
    {
     "name": "stderr",
     "output_type": "stream",
     "text": [
      "100%|████████████████████████████████████████████████████████████████████████████████| 690/690 [01:37<00:00,  7.09it/s]\n",
      "100%|███████████████████████████████████████████████████████████████████████████████| 690/690 [00:03<00:00, 176.44it/s]\n",
      "  0%|                                                                                  | 1/690 [00:00<01:30,  7.60it/s]"
     ]
    },
    {
     "name": "stdout",
     "output_type": "stream",
     "text": [
      "Replicate 2\n"
     ]
    },
    {
     "name": "stderr",
     "output_type": "stream",
     "text": [
      "100%|████████████████████████████████████████████████████████████████████████████████| 690/690 [01:36<00:00,  7.12it/s]\n",
      "100%|███████████████████████████████████████████████████████████████████████████████| 690/690 [00:04<00:00, 165.11it/s]\n",
      "  0%|                                                                                  | 1/690 [00:00<01:28,  7.80it/s]"
     ]
    },
    {
     "name": "stdout",
     "output_type": "stream",
     "text": [
      "Replicate 3\n"
     ]
    },
    {
     "name": "stderr",
     "output_type": "stream",
     "text": [
      "100%|████████████████████████████████████████████████████████████████████████████████| 690/690 [01:34<00:00,  7.30it/s]\n",
      "100%|███████████████████████████████████████████████████████████████████████████████| 690/690 [00:03<00:00, 185.39it/s]\n",
      "  0%|                                                                                  | 1/690 [00:00<01:23,  8.22it/s]"
     ]
    },
    {
     "name": "stdout",
     "output_type": "stream",
     "text": [
      "Replicate 4\n"
     ]
    },
    {
     "name": "stderr",
     "output_type": "stream",
     "text": [
      "100%|████████████████████████████████████████████████████████████████████████████████| 690/690 [01:33<00:00,  7.37it/s]\n",
      "100%|███████████████████████████████████████████████████████████████████████████████| 690/690 [00:04<00:00, 161.03it/s]\n",
      "  0%|                                                                                  | 1/690 [00:00<01:30,  7.63it/s]"
     ]
    },
    {
     "name": "stdout",
     "output_type": "stream",
     "text": [
      "Replicate 5\n"
     ]
    },
    {
     "name": "stderr",
     "output_type": "stream",
     "text": [
      "100%|████████████████████████████████████████████████████████████████████████████████| 690/690 [01:33<00:00,  7.40it/s]\n",
      "100%|███████████████████████████████████████████████████████████████████████████████| 690/690 [00:03<00:00, 182.84it/s]\n"
     ]
    }
   ],
   "source": [
    "axs = eval_spikes(3)\n",
    "print(axs.shape)\n",
    "animate2d(axs,3)"
   ]
  },
  {
   "cell_type": "code",
   "execution_count": 14,
   "metadata": {},
   "outputs": [
    {
     "name": "stderr",
     "output_type": "stream",
     "text": [
      "<ipython-input-4-434cf04e5393>:21: VisibleDeprecationWarning: Creating an ndarray from ragged nested sequences (which is a list-or-tuple of lists-or-tuples-or ndarrays with different lengths or shapes) is deprecated. If you meant to do this, you must specify 'dtype=object' when creating the ndarray.\n",
      "  spike_times = np.array(spike_times)\n",
      "  0%|                                                                                  | 1/690 [00:00<01:43,  6.68it/s]"
     ]
    },
    {
     "name": "stdout",
     "output_type": "stream",
     "text": [
      "(5, 3, 700)\n",
      "Replicate 1\n"
     ]
    },
    {
     "name": "stderr",
     "output_type": "stream",
     "text": [
      "100%|████████████████████████████████████████████████████████████████████████████████| 690/690 [01:47<00:00,  6.43it/s]\n",
      "100%|███████████████████████████████████████████████████████████████████████████████| 690/690 [00:04<00:00, 149.73it/s]\n",
      "  0%|                                                                                          | 0/690 [00:00<?, ?it/s]"
     ]
    },
    {
     "name": "stdout",
     "output_type": "stream",
     "text": [
      "Replicate 2\n"
     ]
    },
    {
     "name": "stderr",
     "output_type": "stream",
     "text": [
      "100%|████████████████████████████████████████████████████████████████████████████████| 690/690 [01:48<00:00,  6.35it/s]\n",
      "100%|███████████████████████████████████████████████████████████████████████████████| 690/690 [00:03<00:00, 185.96it/s]\n",
      "  0%|                                                                                  | 1/690 [00:00<01:39,  6.94it/s]"
     ]
    },
    {
     "name": "stdout",
     "output_type": "stream",
     "text": [
      "Replicate 3\n"
     ]
    },
    {
     "name": "stderr",
     "output_type": "stream",
     "text": [
      "100%|████████████████████████████████████████████████████████████████████████████████| 690/690 [01:45<00:00,  6.55it/s]\n",
      "100%|███████████████████████████████████████████████████████████████████████████████| 690/690 [00:03<00:00, 188.46it/s]\n",
      "  0%|                                                                                  | 1/690 [00:00<01:40,  6.87it/s]"
     ]
    },
    {
     "name": "stdout",
     "output_type": "stream",
     "text": [
      "Replicate 4\n"
     ]
    },
    {
     "name": "stderr",
     "output_type": "stream",
     "text": [
      "100%|████████████████████████████████████████████████████████████████████████████████| 690/690 [01:47<00:00,  6.40it/s]\n",
      "100%|███████████████████████████████████████████████████████████████████████████████| 690/690 [00:03<00:00, 176.22it/s]\n",
      "  0%|                                                                                  | 1/690 [00:00<01:41,  6.82it/s]"
     ]
    },
    {
     "name": "stdout",
     "output_type": "stream",
     "text": [
      "Replicate 5\n"
     ]
    },
    {
     "name": "stderr",
     "output_type": "stream",
     "text": [
      "100%|████████████████████████████████████████████████████████████████████████████████| 690/690 [01:44<00:00,  6.58it/s]\n",
      "100%|███████████████████████████████████████████████████████████████████████████████| 690/690 [00:03<00:00, 172.95it/s]\n"
     ]
    }
   ],
   "source": [
    "axs = eval_spikes(4)\n",
    "print(axs.shape)\n",
    "animate3d(axs,4)"
   ]
  },
  {
   "cell_type": "code",
   "execution_count": 16,
   "metadata": {},
   "outputs": [
    {
     "name": "stderr",
     "output_type": "stream",
     "text": [
      "<ipython-input-4-434cf04e5393>:21: VisibleDeprecationWarning: Creating an ndarray from ragged nested sequences (which is a list-or-tuple of lists-or-tuples-or ndarrays with different lengths or shapes) is deprecated. If you meant to do this, you must specify 'dtype=object' when creating the ndarray.\n",
      "  spike_times = np.array(spike_times)\n",
      "  0%|                                                                                  | 1/690 [00:00<01:37,  7.07it/s]"
     ]
    },
    {
     "name": "stdout",
     "output_type": "stream",
     "text": [
      "(5, 3, 700)\n",
      "Replicate 1\n"
     ]
    },
    {
     "name": "stderr",
     "output_type": "stream",
     "text": [
      "100%|████████████████████████████████████████████████████████████████████████████████| 690/690 [01:51<00:00,  6.17it/s]\n",
      "100%|███████████████████████████████████████████████████████████████████████████████| 690/690 [00:04<00:00, 167.87it/s]\n",
      "  0%|                                                                                          | 0/690 [00:00<?, ?it/s]"
     ]
    },
    {
     "name": "stdout",
     "output_type": "stream",
     "text": [
      "Replicate 2\n"
     ]
    },
    {
     "name": "stderr",
     "output_type": "stream",
     "text": [
      "100%|████████████████████████████████████████████████████████████████████████████████| 690/690 [01:50<00:00,  6.27it/s]\n",
      "100%|███████████████████████████████████████████████████████████████████████████████| 690/690 [00:03<00:00, 177.87it/s]\n",
      "  0%|                                                                                  | 1/690 [00:00<01:43,  6.68it/s]"
     ]
    },
    {
     "name": "stdout",
     "output_type": "stream",
     "text": [
      "Replicate 3\n"
     ]
    },
    {
     "name": "stderr",
     "output_type": "stream",
     "text": [
      "100%|████████████████████████████████████████████████████████████████████████████████| 690/690 [01:50<00:00,  6.27it/s]\n",
      "100%|███████████████████████████████████████████████████████████████████████████████| 690/690 [00:03<00:00, 176.65it/s]\n",
      "  0%|                                                                                          | 0/690 [00:00<?, ?it/s]"
     ]
    },
    {
     "name": "stdout",
     "output_type": "stream",
     "text": [
      "Replicate 4\n"
     ]
    },
    {
     "name": "stderr",
     "output_type": "stream",
     "text": [
      "100%|████████████████████████████████████████████████████████████████████████████████| 690/690 [01:49<00:00,  6.29it/s]\n",
      "100%|███████████████████████████████████████████████████████████████████████████████| 690/690 [00:03<00:00, 178.57it/s]\n",
      "  0%|                                                                                  | 1/690 [00:00<01:45,  6.55it/s]"
     ]
    },
    {
     "name": "stdout",
     "output_type": "stream",
     "text": [
      "Replicate 5\n"
     ]
    },
    {
     "name": "stderr",
     "output_type": "stream",
     "text": [
      "100%|████████████████████████████████████████████████████████████████████████████████| 690/690 [01:48<00:00,  6.34it/s]\n",
      "100%|███████████████████████████████████████████████████████████████████████████████| 690/690 [00:03<00:00, 187.17it/s]\n"
     ]
    }
   ],
   "source": [
    "axs = eval_spikes(5)\n",
    "print(axs.shape)\n",
    "animate3d(axs,5)"
   ]
  },
  {
   "cell_type": "code",
   "execution_count": 17,
   "metadata": {},
   "outputs": [
    {
     "name": "stderr",
     "output_type": "stream",
     "text": [
      "<ipython-input-4-434cf04e5393>:21: VisibleDeprecationWarning: Creating an ndarray from ragged nested sequences (which is a list-or-tuple of lists-or-tuples-or ndarrays with different lengths or shapes) is deprecated. If you meant to do this, you must specify 'dtype=object' when creating the ndarray.\n",
      "  spike_times = np.array(spike_times)\n",
      "  0%|                                                                                  | 1/690 [00:00<01:22,  8.36it/s]"
     ]
    },
    {
     "name": "stdout",
     "output_type": "stream",
     "text": [
      "(5, 2, 700)\n",
      "Replicate 1\n"
     ]
    },
    {
     "name": "stderr",
     "output_type": "stream",
     "text": [
      "100%|████████████████████████████████████████████████████████████████████████████████| 690/690 [01:29<00:00,  7.68it/s]\n",
      "100%|███████████████████████████████████████████████████████████████████████████████| 690/690 [00:03<00:00, 188.86it/s]\n",
      "  0%|                                                                                  | 1/690 [00:00<01:28,  7.77it/s]"
     ]
    },
    {
     "name": "stdout",
     "output_type": "stream",
     "text": [
      "Replicate 2\n"
     ]
    },
    {
     "name": "stderr",
     "output_type": "stream",
     "text": [
      "100%|████████████████████████████████████████████████████████████████████████████████| 690/690 [01:30<00:00,  7.65it/s]\n",
      "100%|███████████████████████████████████████████████████████████████████████████████| 690/690 [00:03<00:00, 183.53it/s]\n",
      "  0%|                                                                                  | 1/690 [00:00<01:25,  8.02it/s]"
     ]
    },
    {
     "name": "stdout",
     "output_type": "stream",
     "text": [
      "Replicate 3\n"
     ]
    },
    {
     "name": "stderr",
     "output_type": "stream",
     "text": [
      "100%|████████████████████████████████████████████████████████████████████████████████| 690/690 [01:29<00:00,  7.67it/s]\n",
      "100%|███████████████████████████████████████████████████████████████████████████████| 690/690 [00:03<00:00, 187.89it/s]\n",
      "  0%|                                                                                  | 1/690 [00:00<01:27,  7.89it/s]"
     ]
    },
    {
     "name": "stdout",
     "output_type": "stream",
     "text": [
      "Replicate 4\n"
     ]
    },
    {
     "name": "stderr",
     "output_type": "stream",
     "text": [
      "100%|████████████████████████████████████████████████████████████████████████████████| 690/690 [01:29<00:00,  7.73it/s]\n",
      "100%|███████████████████████████████████████████████████████████████████████████████| 690/690 [00:03<00:00, 187.72it/s]\n",
      "  0%|                                                                                  | 1/690 [00:00<01:23,  8.25it/s]"
     ]
    },
    {
     "name": "stdout",
     "output_type": "stream",
     "text": [
      "Replicate 5\n"
     ]
    },
    {
     "name": "stderr",
     "output_type": "stream",
     "text": [
      "100%|████████████████████████████████████████████████████████████████████████████████| 690/690 [01:29<00:00,  7.73it/s]\n",
      "100%|███████████████████████████████████████████████████████████████████████████████| 690/690 [00:03<00:00, 192.55it/s]\n"
     ]
    }
   ],
   "source": [
    "axs = eval_spikes(6)\n",
    "print(axs.shape)\n",
    "animate2d(axs,6)"
   ]
  },
  {
   "cell_type": "code",
   "execution_count": 18,
   "metadata": {},
   "outputs": [
    {
     "name": "stderr",
     "output_type": "stream",
     "text": [
      "<ipython-input-4-434cf04e5393>:21: VisibleDeprecationWarning: Creating an ndarray from ragged nested sequences (which is a list-or-tuple of lists-or-tuples-or ndarrays with different lengths or shapes) is deprecated. If you meant to do this, you must specify 'dtype=object' when creating the ndarray.\n",
      "  spike_times = np.array(spike_times)\n",
      "\r",
      "  0%|                                                                                          | 0/690 [00:00<?, ?it/s]"
     ]
    },
    {
     "name": "stdout",
     "output_type": "stream",
     "text": [
      "(5, 3, 700)\n",
      "Replicate 1\n"
     ]
    },
    {
     "name": "stderr",
     "output_type": "stream",
     "text": [
      "100%|████████████████████████████████████████████████████████████████████████████████| 690/690 [01:43<00:00,  6.65it/s]\n",
      "100%|███████████████████████████████████████████████████████████████████████████████| 690/690 [00:03<00:00, 174.51it/s]\n",
      "  0%|                                                                                  | 1/690 [00:00<01:40,  6.85it/s]"
     ]
    },
    {
     "name": "stdout",
     "output_type": "stream",
     "text": [
      "Replicate 2\n"
     ]
    },
    {
     "name": "stderr",
     "output_type": "stream",
     "text": [
      "100%|████████████████████████████████████████████████████████████████████████████████| 690/690 [01:43<00:00,  6.65it/s]\n",
      "100%|███████████████████████████████████████████████████████████████████████████████| 690/690 [00:03<00:00, 177.27it/s]\n",
      "  0%|                                                                                  | 1/690 [00:00<01:41,  6.82it/s]"
     ]
    },
    {
     "name": "stdout",
     "output_type": "stream",
     "text": [
      "Replicate 3\n"
     ]
    },
    {
     "name": "stderr",
     "output_type": "stream",
     "text": [
      "100%|████████████████████████████████████████████████████████████████████████████████| 690/690 [01:44<00:00,  6.61it/s]\n",
      "100%|███████████████████████████████████████████████████████████████████████████████| 690/690 [00:03<00:00, 189.67it/s]\n",
      "  0%|                                                                                  | 1/690 [00:00<01:38,  7.02it/s]"
     ]
    },
    {
     "name": "stdout",
     "output_type": "stream",
     "text": [
      "Replicate 4\n"
     ]
    },
    {
     "name": "stderr",
     "output_type": "stream",
     "text": [
      "100%|████████████████████████████████████████████████████████████████████████████████| 690/690 [01:43<00:00,  6.70it/s]\n",
      "100%|███████████████████████████████████████████████████████████████████████████████| 690/690 [00:04<00:00, 163.50it/s]\n",
      "  0%|                                                                                  | 1/690 [00:00<01:39,  6.91it/s]"
     ]
    },
    {
     "name": "stdout",
     "output_type": "stream",
     "text": [
      "Replicate 5\n"
     ]
    },
    {
     "name": "stderr",
     "output_type": "stream",
     "text": [
      "100%|████████████████████████████████████████████████████████████████████████████████| 690/690 [01:42<00:00,  6.71it/s]\n",
      "100%|███████████████████████████████████████████████████████████████████████████████| 690/690 [00:03<00:00, 187.72it/s]\n"
     ]
    }
   ],
   "source": [
    "axs = eval_spikes(7)\n",
    "print(axs.shape)\n",
    "animate3d(axs,7)"
   ]
  },
  {
   "cell_type": "code",
   "execution_count": 19,
   "metadata": {},
   "outputs": [
    {
     "name": "stderr",
     "output_type": "stream",
     "text": [
      "<ipython-input-4-434cf04e5393>:21: VisibleDeprecationWarning: Creating an ndarray from ragged nested sequences (which is a list-or-tuple of lists-or-tuples-or ndarrays with different lengths or shapes) is deprecated. If you meant to do this, you must specify 'dtype=object' when creating the ndarray.\n",
      "  spike_times = np.array(spike_times)\n",
      "  0%|                                                                                  | 1/690 [00:00<01:30,  7.60it/s]"
     ]
    },
    {
     "name": "stdout",
     "output_type": "stream",
     "text": [
      "(5, 2, 700)\n",
      "Replicate 1\n"
     ]
    },
    {
     "name": "stderr",
     "output_type": "stream",
     "text": [
      "100%|████████████████████████████████████████████████████████████████████████████████| 690/690 [01:28<00:00,  7.82it/s]\n",
      "100%|███████████████████████████████████████████████████████████████████████████████| 690/690 [00:03<00:00, 191.95it/s]\n",
      "  0%|                                                                                  | 1/690 [00:00<01:29,  7.71it/s]"
     ]
    },
    {
     "name": "stdout",
     "output_type": "stream",
     "text": [
      "Replicate 2\n"
     ]
    },
    {
     "name": "stderr",
     "output_type": "stream",
     "text": [
      "100%|████████████████████████████████████████████████████████████████████████████████| 690/690 [01:29<00:00,  7.69it/s]\n",
      "100%|███████████████████████████████████████████████████████████████████████████████| 690/690 [00:03<00:00, 198.37it/s]\n",
      "  0%|                                                                                  | 1/690 [00:00<01:22,  8.35it/s]"
     ]
    },
    {
     "name": "stdout",
     "output_type": "stream",
     "text": [
      "Replicate 3\n"
     ]
    },
    {
     "name": "stderr",
     "output_type": "stream",
     "text": [
      "100%|████████████████████████████████████████████████████████████████████████████████| 690/690 [01:28<00:00,  7.76it/s]\n",
      "100%|███████████████████████████████████████████████████████████████████████████████| 690/690 [00:03<00:00, 186.22it/s]\n",
      "  0%|                                                                                  | 1/690 [00:00<01:28,  7.77it/s]"
     ]
    },
    {
     "name": "stdout",
     "output_type": "stream",
     "text": [
      "Replicate 4\n"
     ]
    },
    {
     "name": "stderr",
     "output_type": "stream",
     "text": [
      "100%|████████████████████████████████████████████████████████████████████████████████| 690/690 [01:28<00:00,  7.81it/s]\n",
      "100%|███████████████████████████████████████████████████████████████████████████████| 690/690 [00:03<00:00, 194.37it/s]\n",
      "  0%|                                                                                          | 0/690 [00:00<?, ?it/s]"
     ]
    },
    {
     "name": "stdout",
     "output_type": "stream",
     "text": [
      "Replicate 5\n"
     ]
    },
    {
     "name": "stderr",
     "output_type": "stream",
     "text": [
      "100%|████████████████████████████████████████████████████████████████████████████████| 690/690 [01:29<00:00,  7.73it/s]\n",
      "100%|███████████████████████████████████████████████████████████████████████████████| 690/690 [00:03<00:00, 173.04it/s]\n"
     ]
    }
   ],
   "source": [
    "axs = eval_spikes(8)\n",
    "print(axs.shape)\n",
    "animate2d(axs,8)"
   ]
  },
  {
   "cell_type": "code",
   "execution_count": 20,
   "metadata": {},
   "outputs": [
    {
     "name": "stderr",
     "output_type": "stream",
     "text": [
      "<ipython-input-4-434cf04e5393>:21: VisibleDeprecationWarning: Creating an ndarray from ragged nested sequences (which is a list-or-tuple of lists-or-tuples-or ndarrays with different lengths or shapes) is deprecated. If you meant to do this, you must specify 'dtype=object' when creating the ndarray.\n",
      "  spike_times = np.array(spike_times)\n",
      "  0%|                                                                                  | 1/690 [00:00<01:36,  7.16it/s]"
     ]
    },
    {
     "name": "stdout",
     "output_type": "stream",
     "text": [
      "(5, 3, 700)\n",
      "Replicate 1\n"
     ]
    },
    {
     "name": "stderr",
     "output_type": "stream",
     "text": [
      "100%|████████████████████████████████████████████████████████████████████████████████| 690/690 [01:44<00:00,  6.62it/s]\n",
      "100%|███████████████████████████████████████████████████████████████████████████████| 690/690 [00:03<00:00, 189.60it/s]\n",
      "  0%|                                                                                  | 1/690 [00:00<01:38,  6.98it/s]"
     ]
    },
    {
     "name": "stdout",
     "output_type": "stream",
     "text": [
      "Replicate 2\n"
     ]
    },
    {
     "name": "stderr",
     "output_type": "stream",
     "text": [
      "100%|████████████████████████████████████████████████████████████████████████████████| 690/690 [01:49<00:00,  6.32it/s]\n",
      "100%|███████████████████████████████████████████████████████████████████████████████| 690/690 [00:03<00:00, 182.20it/s]\n",
      "  0%|                                                                                  | 1/690 [00:00<01:38,  6.96it/s]"
     ]
    },
    {
     "name": "stdout",
     "output_type": "stream",
     "text": [
      "Replicate 3\n"
     ]
    },
    {
     "name": "stderr",
     "output_type": "stream",
     "text": [
      "100%|████████████████████████████████████████████████████████████████████████████████| 690/690 [01:44<00:00,  6.63it/s]\n",
      "100%|███████████████████████████████████████████████████████████████████████████████| 690/690 [00:03<00:00, 179.64it/s]\n",
      "  0%|                                                                                  | 1/690 [00:00<01:36,  7.11it/s]"
     ]
    },
    {
     "name": "stdout",
     "output_type": "stream",
     "text": [
      "Replicate 4\n"
     ]
    },
    {
     "name": "stderr",
     "output_type": "stream",
     "text": [
      "100%|████████████████████████████████████████████████████████████████████████████████| 690/690 [01:44<00:00,  6.60it/s]\n",
      "100%|███████████████████████████████████████████████████████████████████████████████| 690/690 [00:03<00:00, 175.63it/s]\n",
      "  0%|                                                                                  | 1/690 [00:00<01:41,  6.77it/s]"
     ]
    },
    {
     "name": "stdout",
     "output_type": "stream",
     "text": [
      "Replicate 5\n"
     ]
    },
    {
     "name": "stderr",
     "output_type": "stream",
     "text": [
      "100%|████████████████████████████████████████████████████████████████████████████████| 690/690 [01:44<00:00,  6.59it/s]\n",
      "100%|███████████████████████████████████████████████████████████████████████████████| 690/690 [00:03<00:00, 182.51it/s]\n"
     ]
    }
   ],
   "source": [
    "axs = eval_spikes(9)\n",
    "print(axs.shape)\n",
    "animate3d(axs,9)"
   ]
  },
  {
   "cell_type": "code",
   "execution_count": 21,
   "metadata": {},
   "outputs": [
    {
     "name": "stderr",
     "output_type": "stream",
     "text": [
      "<ipython-input-4-434cf04e5393>:21: VisibleDeprecationWarning: Creating an ndarray from ragged nested sequences (which is a list-or-tuple of lists-or-tuples-or ndarrays with different lengths or shapes) is deprecated. If you meant to do this, you must specify 'dtype=object' when creating the ndarray.\n",
      "  spike_times = np.array(spike_times)\n",
      "  0%|                                                                                  | 1/690 [00:00<01:19,  8.72it/s]"
     ]
    },
    {
     "name": "stdout",
     "output_type": "stream",
     "text": [
      "(5, 2, 700)\n",
      "Replicate 1\n"
     ]
    },
    {
     "name": "stderr",
     "output_type": "stream",
     "text": [
      "100%|████████████████████████████████████████████████████████████████████████████████| 690/690 [01:31<00:00,  7.57it/s]\n",
      "100%|███████████████████████████████████████████████████████████████████████████████| 690/690 [00:03<00:00, 196.83it/s]\n",
      "  0%|                                                                                  | 1/690 [00:00<01:25,  8.02it/s]"
     ]
    },
    {
     "name": "stdout",
     "output_type": "stream",
     "text": [
      "Replicate 2\n"
     ]
    },
    {
     "name": "stderr",
     "output_type": "stream",
     "text": [
      "100%|████████████████████████████████████████████████████████████████████████████████| 690/690 [01:30<00:00,  7.66it/s]\n",
      "100%|███████████████████████████████████████████████████████████████████████████████| 690/690 [00:04<00:00, 155.84it/s]\n",
      "  0%|                                                                                  | 1/690 [00:00<01:26,  7.96it/s]"
     ]
    },
    {
     "name": "stdout",
     "output_type": "stream",
     "text": [
      "Replicate 3\n"
     ]
    },
    {
     "name": "stderr",
     "output_type": "stream",
     "text": [
      "100%|████████████████████████████████████████████████████████████████████████████████| 690/690 [01:34<00:00,  7.30it/s]\n",
      "100%|███████████████████████████████████████████████████████████████████████████████| 690/690 [00:03<00:00, 186.36it/s]\n",
      "  0%|                                                                                  | 1/690 [00:00<01:22,  8.39it/s]"
     ]
    },
    {
     "name": "stdout",
     "output_type": "stream",
     "text": [
      "Replicate 4\n"
     ]
    },
    {
     "name": "stderr",
     "output_type": "stream",
     "text": [
      "100%|████████████████████████████████████████████████████████████████████████████████| 690/690 [01:33<00:00,  7.41it/s]\n",
      "100%|███████████████████████████████████████████████████████████████████████████████| 690/690 [00:03<00:00, 191.61it/s]\n",
      "  0%|                                                                                          | 0/690 [00:00<?, ?it/s]"
     ]
    },
    {
     "name": "stdout",
     "output_type": "stream",
     "text": [
      "Replicate 5\n"
     ]
    },
    {
     "name": "stderr",
     "output_type": "stream",
     "text": [
      "100%|████████████████████████████████████████████████████████████████████████████████| 690/690 [01:29<00:00,  7.67it/s]\n",
      "100%|███████████████████████████████████████████████████████████████████████████████| 690/690 [00:03<00:00, 190.33it/s]\n"
     ]
    }
   ],
   "source": [
    "axs = eval_spikes(10)\n",
    "print(axs.shape)\n",
    "animate2d(axs,10)"
   ]
  },
  {
   "cell_type": "code",
   "execution_count": 27,
   "metadata": {},
   "outputs": [
    {
     "name": "stderr",
     "output_type": "stream",
     "text": [
      "100%|████████████████████████████████████████████████████████████████████████████████| 690/690 [01:45<00:00,  6.57it/s]\n",
      "100%|████████████████████████████████████████████████████████████████████████████████| 690/690 [01:41<00:00,  6.79it/s]\n",
      "100%|████████████████████████████████████████████████████████████████████████████████| 690/690 [01:39<00:00,  6.91it/s]\n",
      "100%|████████████████████████████████████████████████████████████████████████████████| 690/690 [01:31<00:00,  7.53it/s]\n",
      "100%|████████████████████████████████████████████████████████████████████████████████| 690/690 [01:34<00:00,  7.33it/s]\n",
      "100%|████████████████████████████████████████████████████████████████████████████████| 690/690 [01:28<00:00,  7.76it/s]\n",
      "100%|████████████████████████████████████████████████████████████████████████████████| 690/690 [01:45<00:00,  6.53it/s]\n",
      "100%|████████████████████████████████████████████████████████████████████████████████| 690/690 [01:46<00:00,  6.48it/s]\n",
      "100%|████████████████████████████████████████████████████████████████████████████████| 690/690 [01:52<00:00,  6.13it/s]\n",
      "100%|████████████████████████████████████████████████████████████████████████████████| 690/690 [01:45<00:00,  6.56it/s]\n"
     ]
    }
   ],
   "source": [
    "for graphno in range(1,11):\n",
    "    gifs = [imageio.get_reader(f'Videos/{x}') for x in filter(lambda v: f\"_{graphno}_\" in v,os.listdir(\"Videos/\"))]\n",
    "    new_gif = imageio.get_writer(f'Videos/{graphno}_out.gif',fps=20)\n",
    "    for frame_number in tqdm(range(np.min([gif.get_length() for gif in gifs]))):\n",
    "        datas = [gif.get_next_data() for gif in gifs]\n",
    "        new_image = np.hstack(datas)\n",
    "        new_gif.append_data(new_image)\n",
    "    for gif in gifs:\n",
    "        gif.close()\n",
    "    new_gif.close()"
   ]
  },
  {
   "cell_type": "code",
   "execution_count": 29,
   "metadata": {},
   "outputs": [
    {
     "name": "stderr",
     "output_type": "stream",
     "text": [
      "100%|████████████████████████████████████████████████████████████████████████████████| 690/690 [03:37<00:00,  3.18it/s]\n",
      "100%|████████████████████████████████████████████████████████████████████████████████| 690/690 [03:32<00:00,  3.24it/s]\n",
      "100%|████████████████████████████████████████████████████████████████████████████████| 690/690 [03:32<00:00,  3.25it/s]\n",
      "100%|████████████████████████████████████████████████████████████████████████████████| 690/690 [03:28<00:00,  3.31it/s]\n",
      "100%|████████████████████████████████████████████████████████████████████████████████| 690/690 [03:05<00:00,  3.73it/s]\n"
     ]
    }
   ],
   "source": [
    "files = list(filter(lambda v: \"_out\" in v,os.listdir(\"Videos/\")))\n",
    "files.sort(key=lambda f: int(re.sub('\\D', '', f)))\n",
    "for graphno in range(1,11,2):\n",
    "    gifs = [imageio.get_reader(f'Videos/{x}') for x in files[graphno-1:graphno+1]]\n",
    "    new_gif = imageio.get_writer(f'Videos/{graphno}_{graphno+1}.gif',fps=20)\n",
    "    for frame_number in tqdm(range(np.min([gif.get_length() for gif in gifs]))):\n",
    "        datas = [gif.get_next_data() for gif in gifs]\n",
    "        new_image = np.vstack(datas)\n",
    "        new_gif.append_data(new_image)\n",
    "    for gif in gifs:\n",
    "        gif.close()\n",
    "    new_gif.close()"
   ]
  }
 ],
 "metadata": {
  "kernelspec": {
   "display_name": "odor-states",
   "language": "python",
   "name": "odor-states"
  },
  "language_info": {
   "codemirror_mode": {
    "name": "ipython",
    "version": 3
   },
   "file_extension": ".py",
   "mimetype": "text/x-python",
   "name": "python",
   "nbconvert_exporter": "python",
   "pygments_lexer": "ipython3",
   "version": "3.8.8"
  }
 },
 "nbformat": 4,
 "nbformat_minor": 4
}
