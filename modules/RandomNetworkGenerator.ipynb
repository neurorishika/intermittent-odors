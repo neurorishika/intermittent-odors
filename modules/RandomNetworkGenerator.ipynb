{
 "cells": [
  {
   "cell_type": "code",
   "execution_count": 2,
   "metadata": {},
   "outputs": [],
   "source": [
    "import numpy as np\n",
    "import matplotlib.pyplot as plt"
   ]
  },
  {
   "cell_type": "code",
   "execution_count": 19,
   "metadata": {},
   "outputs": [
    {
     "name": "stdout",
     "output_type": "stream",
     "text": [
      "Matrix 1: 9034893\n",
      "Matrix 2: 9034892\n",
      "Matrix 3: 9034891\n",
      "Matrix 4: 9034890\n",
      "Matrix 5: 9034889\n",
      "Matrix 6: 63646\n",
      "Matrix 7: 63647\n",
      "Matrix 8: 63648\n",
      "Matrix 9: 63649\n",
      "Matrix 10: 63650\n"
     ]
    }
   ],
   "source": [
    "for i in range(1,6):\n",
    "    np.random.seed(9034894-i)\n",
    "    print(f\"Matrix {i}:\",9034894-i)\n",
    "    n = 30\n",
    "    target_p = 0.2\n",
    "    p = np.min(np.roots([-1,2,-target_p]))\n",
    "    A = np.random.choice([0,1],p=[1-p,p],size=(n,n))\n",
    "    A = np.int32((A+A.T)>0)\n",
    "    np.fill_diagonal(A,0)\n",
    "    np.save(f'networks/matrix_{i}',A)\n",
    "    np.savetxt(f'networks/matrix_{i}.csv',A,delimiter=',')\n",
    "for i in range(6,11):\n",
    "    np.random.seed(63640+i)\n",
    "    print(f\"Matrix {i}:\",63640+i)\n",
    "    n = 30\n",
    "    target_p = 0.2\n",
    "    p = np.min(np.roots([-1,2,-target_p]))\n",
    "    A = np.random.choice([0,1],p=[1-p,p],size=(n,n))\n",
    "    A = np.int32((A+A.T)>0)\n",
    "    np.fill_diagonal(A,0)\n",
    "    np.save(f'networks/matrix_{i}',A)\n",
    "    np.savetxt(f'networks/matrix_{i}.csv',A,delimiter=',')"
   ]
  }
 ],
 "metadata": {
  "kernelspec": {
   "display_name": "Python (tensorflow)",
   "language": "python",
   "name": "tensorflow"
  },
  "language_info": {
   "codemirror_mode": {
    "name": "ipython",
    "version": 3
   },
   "file_extension": ".py",
   "mimetype": "text/x-python",
   "name": "python",
   "nbconvert_exporter": "python",
   "pygments_lexer": "ipython3",
   "version": "3.6.8"
  }
 },
 "nbformat": 4,
 "nbformat_minor": 4
}
