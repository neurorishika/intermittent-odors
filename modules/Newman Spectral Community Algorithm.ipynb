{
 "cells": [
  {
   "cell_type": "code",
   "execution_count": 3,
   "metadata": {},
   "outputs": [],
   "source": [
    "import numpy as np\n",
    "from scipy.linalg import eig\n",
    "from scipy.linalg import block_diag\n",
    "import matplotlib.pyplot as plt"
   ]
  },
  {
   "cell_type": "code",
   "execution_count": 4,
   "metadata": {},
   "outputs": [],
   "source": [
    "def modularity(A,γ=1):\n",
    "    '''\n",
    "    Implementation of Newman's Spectral Clustering Algorithm for Undirected Graphs\n",
    "    A: NxN Matrix\n",
    "    γ: Module size preference ( γ=1 : classical;\n",
    "                                0<=γ<1 : prefer larger modules;\n",
    "                                γ>1 : prefer smaller modules)\n",
    "    '''\n",
    "    N = A.shape[0]\n",
    "    K = np.sum(A,axis=0)\n",
    "    m = np.sum(K)\n",
    "    B = A-γ*(np.matmul(K.reshape(-1,1),K.reshape(1,-1)))/m\n",
    "    Ci=np.ones((N,1))\n",
    "    cn=1\n",
    "    U=[1,0]\n",
    "    ind=np.arange(N)\n",
    "    Bg=B\n",
    "    Ng=N\n",
    "    while U[0]:\n",
    "        D,V = eig(Bg) # Right Eigenvalue decomposition\n",
    "        i1 = np.argmax(np.real(D)) # Max real eigenvalue\n",
    "        v1=V[:,i1]\n",
    "        S=np.ones((Ng,1))\n",
    "        S[v1<0]=-1 # flip for negative eigenvector elements \n",
    "        q=np.matmul(np.matmul(S.T,Bg),S); # modularity measure\n",
    "        if q>1e-10: # tolerance\n",
    "            qmax = q;\n",
    "            Bg[np.eye(Ng)==1] = 0\n",
    "            indg = np.ones((Ng,1))\n",
    "            Sit = S\n",
    "            while np.any(~np.isnan(indg)):\n",
    "                Qit = qmax - 4*Sit*np.matmul(Bg,Sit) \n",
    "                qmax = np.nanmax(Qit*indg)\n",
    "                imax = np.nanargmax(Qit*indg)\n",
    "                Sit[imax]=-Sit[imax]\n",
    "                indg[imax]=np.NaN;             \n",
    "                if qmax>q:              \n",
    "                    q=qmax                \n",
    "                    S=Sit\n",
    "            if np.abs(np.sum(S))==Ng:\n",
    "                U[0]=0\n",
    "            else:\n",
    "                cn=cn+1\n",
    "                Ci[ind[S.flatten()==1]]=U[0]\n",
    "                Ci[ind[S.flatten()==1]]=cn\n",
    "                U = [cn,U]\n",
    "        else:\n",
    "            U[0] = 0\n",
    "        ind = np.arange(N)[Ci.flatten()==U[0]]\n",
    "        bg = B[ind,:][:,ind]\n",
    "        Bg = bg-np.diag(np.sum(bg,axis=0))\n",
    "        Ng = ind.shape[0]\n",
    "    s = Ci[:,[0]*N]\n",
    "    Q =((s-s.T)==0)*B/m\n",
    "    Q = np.sum(Q)\n",
    "    return Ci,Q"
   ]
  },
  {
   "cell_type": "code",
   "execution_count": 5,
   "metadata": {},
   "outputs": [
    {
     "data": {
      "text/plain": [
       "<matplotlib.image.AxesImage at 0x2e1baff9278>"
      ]
     },
     "execution_count": 5,
     "metadata": {},
     "output_type": "execute_result"
    },
    {
     "data": {
      "image/png": "[encoded data removed]",
      "text/plain": [
       "<Figure size 432x288 with 1 Axes>"
      ]
     },
     "metadata": {
      "needs_background": "light"
     },
     "output_type": "display_data"
    }
   ],
   "source": [
    "np.random.seed(9034893)\n",
    "n = 30\n",
    "target_p = 0.2\n",
    "p = np.min(np.roots([-1,2,-target_p]))\n",
    "A = np.random.choice([0,1],p=[1-p,p],size=(n,n))\n",
    "A = np.int32((A+A.T)>0)\n",
    "Ci,Q = modularity(1-A,1)\n",
    "order = np.argsort(Ci.flatten())\n",
    "np.save('matrix_1',A)\n",
    "np.save('matrix_1_modules',Ci.flatten())\n",
    "plt.imshow(A[order,:][:,order])"
   ]
  },
  {
   "cell_type": "code",
   "execution_count": 6,
   "metadata": {},
   "outputs": [
    {
     "data": {
      "text/plain": [
       "<matplotlib.image.AxesImage at 0x2e1bb0e4860>"
      ]
     },
     "execution_count": 6,
     "metadata": {},
     "output_type": "execute_result"
    },
    {
     "data": {
      "image/png": "[encoded data removed]",
      "text/plain": [
       "<Figure size 432x288 with 1 Axes>"
      ]
     },
     "metadata": {
      "needs_background": "light"
     },
     "output_type": "display_data"
    }
   ],
   "source": [
    "np.random.seed(9034892)\n",
    "n = 30\n",
    "target_p = 0.2\n",
    "p = np.min(np.roots([-1,2,-target_p]))\n",
    "A = np.random.choice([0,1],p=[1-p,p],size=(n,n))\n",
    "A = np.int32((A+A.T)>0)\n",
    "Ci,Q = modularity(1-A,1)\n",
    "order = np.argsort(Ci.flatten())\n",
    "np.save('matrix_2',A)\n",
    "np.save('matrix_2_modules',Ci.flatten())\n",
    "plt.imshow(A[order,:][:,order])"
   ]
  },
  {
   "cell_type": "code",
   "execution_count": 7,
   "metadata": {},
   "outputs": [
    {
     "data": {
      "text/plain": [
       "<matplotlib.image.AxesImage at 0x2e1bb14e7f0>"
      ]
     },
     "execution_count": 7,
     "metadata": {},
     "output_type": "execute_result"
    },
    {
     "data": {
      "image/png": "[encoded data removed]",
      "text/plain": [
       "<Figure size 432x288 with 1 Axes>"
      ]
     },
     "metadata": {
      "needs_background": "light"
     },
     "output_type": "display_data"
    }
   ],
   "source": [
    "np.random.seed(9034891)\n",
    "n = 30\n",
    "target_p = 0.2\n",
    "p = np.min(np.roots([-1,2,-target_p]))\n",
    "A = np.random.choice([0,1],p=[1-p,p],size=(n,n))\n",
    "A = np.int32((A+A.T)>0)\n",
    "Ci,Q = modularity(1-A,1)\n",
    "order = np.argsort(Ci.flatten())\n",
    "np.save('matrix_3',A)\n",
    "np.save('matrix_3_modules',Ci.flatten())\n",
    "plt.imshow(A[order,:][:,order])"
   ]
  },
  {
   "cell_type": "code",
   "execution_count": 8,
   "metadata": {},
   "outputs": [
    {
     "data": {
      "text/plain": [
       "<matplotlib.image.AxesImage at 0x2e1bb1b32b0>"
      ]
     },
     "execution_count": 8,
     "metadata": {},
     "output_type": "execute_result"
    },
    {
     "data": {
      "image/png": "[encoded data removed]",
      "text/plain": [
       "<Figure size 432x288 with 1 Axes>"
      ]
     },
     "metadata": {
      "needs_background": "light"
     },
     "output_type": "display_data"
    }
   ],
   "source": [
    "np.random.seed(9034890)\n",
    "n = 30\n",
    "target_p = 0.2\n",
    "p = np.min(np.roots([-1,2,-target_p]))\n",
    "A = np.random.choice([0,1],p=[1-p,p],size=(n,n))\n",
    "A = np.int32((A+A.T)>0)\n",
    "Ci,Q = modularity(1-A,1)\n",
    "order = np.argsort(Ci.flatten())\n",
    "np.save('matrix_4',A)\n",
    "np.save('matrix_4_modules',Ci.flatten())\n",
    "plt.imshow(A[order,:][:,order])"
   ]
  },
  {
   "cell_type": "code",
   "execution_count": 9,
   "metadata": {},
   "outputs": [
    {
     "data": {
      "text/plain": [
       "<matplotlib.image.AxesImage at 0x2e1bb20fcc0>"
      ]
     },
     "execution_count": 9,
     "metadata": {},
     "output_type": "execute_result"
    },
    {
     "data": {
      "image/png": "[encoded data removed]",
      "text/plain": [
       "<Figure size 432x288 with 1 Axes>"
      ]
     },
     "metadata": {
      "needs_background": "light"
     },
     "output_type": "display_data"
    }
   ],
   "source": [
    "np.random.seed(9034889)\n",
    "n = 30\n",
    "target_p = 0.2\n",
    "p = np.min(np.roots([-1,2,-target_p]))\n",
    "A = np.random.choice([0,1],p=[1-p,p],size=(n,n))\n",
    "A = np.int32((A+A.T)>0)\n",
    "Ci,Q = modularity(1-A,1)\n",
    "order = np.argsort(Ci.flatten())\n",
    "np.save('matrix_5',A)\n",
    "np.save('matrix_5_modules',Ci.flatten())\n",
    "plt.imshow(A[order,:][:,order])"
   ]
  },
  {
   "cell_type": "code",
   "execution_count": 10,
   "metadata": {},
   "outputs": [],
   "source": [
    "# A = block_diag(np.ones((10,10)),np.ones((5,5)),np.ones((5,5)),np.ones((10,10)))\n",
    "# randomorder = np.random.choice(np.arange(30),replace=False,size=30)\n",
    "# A = A[randomorder,:][:,randomorder]\n",
    "# order = np.argsort(Ci.flatten())\n",
    "# plt.imshow(A[order,:][:,order])"
   ]
  },
  {
   "cell_type": "code",
   "execution_count": 11,
   "metadata": {},
   "outputs": [],
   "source": [
    "values = []\n",
    "for n in range(500):\n",
    "    A = np.random.choice([0,1],p=[0.5,0.5],size=(100,100))\n",
    "    A = np.int32((A+A.T)>0)\n",
    "    Ci,Q = modularity(1-A,1)\n",
    "    within = np.mean(np.concatenate([A[Ci.flatten()==i,:][:,Ci.flatten()==i].flatten() for i in np.unique(Ci)]) )\n",
    "    across = np.mean(np.concatenate([A[Ci.flatten()==i,:][:,Ci.flatten()!=i].flatten() for i in np.unique(Ci)]) )\n",
    "    values.append([within,across,across/within])\n",
    "values=np.array(values)"
   ]
  },
  {
   "cell_type": "code",
   "execution_count": 12,
   "metadata": {},
   "outputs": [],
   "source": [
    "import seaborn as sns"
   ]
  },
  {
   "cell_type": "code",
   "execution_count": 13,
   "metadata": {},
   "outputs": [
    {
     "data": {
      "text/plain": [
       "<AxesSubplot:>"
      ]
     },
     "execution_count": 13,
     "metadata": {},
     "output_type": "execute_result"
    },
    {
     "data": {
      "image/png": "[encoded data removed]",
      "text/plain": [
       "<Figure size 432x288 with 1 Axes>"
      ]
     },
     "metadata": {
      "needs_background": "light"
     },
     "output_type": "display_data"
    }
   ],
   "source": [
    "sns.distplot(values[:,0])\n",
    "sns.distplot(values[:,1])"
   ]
  },
  {
   "cell_type": "code",
   "execution_count": 9,
   "metadata": {},
   "outputs": [
    {
     "data": {
      "text/plain": [
       "<AxesSubplot:>"
      ]
     },
     "execution_count": 9,
     "metadata": {},
     "output_type": "execute_result"
    },
    {
     "data": {
      "image/png": "[encoded data removed]",
      "text/plain": [
       "<Figure size 432x288 with 1 Axes>"
      ]
     },
     "metadata": {
      "needs_background": "light"
     },
     "output_type": "display_data"
    }
   ],
   "source": [
    "sns.distplot(values[:,2])"
   ]
  },
  {
   "cell_type": "code",
   "execution_count": 37,
   "metadata": {},
   "outputs": [],
   "source": [
    "D,V = eig(A)"
   ]
  },
  {
   "cell_type": "code",
   "execution_count": 46,
   "metadata": {},
   "outputs": [],
   "source": [
    "v1=V[:,np.argmax(np.real(D))]"
   ]
  },
  {
   "cell_type": "code",
   "execution_count": 48,
   "metadata": {},
   "outputs": [
    {
     "data": {
      "text/plain": [
       "array([0.29336151+0.j, 0.25483356+0.j, 0.29006737+0.j, 0.26122265+0.j,\n",
       "       0.37280406+0.j, 0.47134525+0.j, 0.34053021+0.j, 0.21041951+0.j,\n",
       "       0.34553785+0.j, 0.23630428+0.j])"
      ]
     },
     "execution_count": 48,
     "metadata": {},
     "output_type": "execute_result"
    }
   ],
   "source": [
    "v1"
   ]
  },
  {
   "cell_type": "code",
   "execution_count": 31,
   "metadata": {},
   "outputs": [],
   "source": [
    "dist = [np.mean((np.random.choice([0,1],p=[0.9,0.1],size=(30,90))*np.random.choice([0,1],p=[0.9,0.1],size=90)).sum(axis=1)>0) for i in range(1000)]"
   ]
  },
  {
   "cell_type": "code",
   "execution_count": 32,
   "metadata": {},
   "outputs": [
    {
     "data": {
      "text/plain": [
       "(0.5929333333333333, 0.1493208923389118)"
      ]
     },
     "execution_count": 32,
     "metadata": {},
     "output_type": "execute_result"
    }
   ],
   "source": [
    "np.mean(dist),np.std(dist)"
   ]
  },
  {
   "cell_type": "code",
   "execution_count": null,
   "metadata": {},
   "outputs": [],
   "source": []
  }
 ],
 "metadata": {
  "kernelspec": {
   "display_name": "Python (tensorflow)",
   "language": "python",
   "name": "tensorflow"
  },
  "language_info": {
   "codemirror_mode": {
    "name": "ipython",
    "version": 3
   },
   "file_extension": ".py",
   "mimetype": "text/x-python",
   "name": "python",
   "nbconvert_exporter": "python",
   "pygments_lexer": "ipython3",
   "version": "3.6.8"
  }
 },
 "nbformat": 4,
 "nbformat_minor": 4
}
