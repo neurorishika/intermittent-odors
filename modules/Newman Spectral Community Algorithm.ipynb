{
 "cells": [
  {
   "cell_type": "code",
   "execution_count": 1,
   "metadata": {},
   "outputs": [],
   "source": [
    "import numpy as np\n",
    "from scipy.linalg import eig\n",
    "from scipy.linalg import block_diag\n",
    "import matplotlib.pyplot as plt"
   ]
  },
  {
   "cell_type": "code",
   "execution_count": 2,
   "metadata": {},
   "outputs": [],
   "source": [
    "def modularity(A,γ=1):\n",
    "    '''\n",
    "    Implementation of Newman's Spectral Clustering Algorithm for Undirected Graphs\n",
    "    A: NxN Matrix\n",
    "    γ: Module size preference ( γ=1 : classical;\n",
    "                                0<=γ<1 : prefer larger modules;\n",
    "                                γ>1 : prefer smaller modules)\n",
    "    '''\n",
    "    N = A.shape[0]\n",
    "    K = np.sum(A,axis=0)\n",
    "    m = np.sum(K)\n",
    "    B = A-γ*(np.matmul(K.reshape(-1,1),K.reshape(1,-1)))/m\n",
    "    Ci=np.ones((N,1))\n",
    "    cn=1\n",
    "    U=[1,0]\n",
    "    ind=np.arange(N)\n",
    "    Bg=B\n",
    "    Ng=N\n",
    "    while U[0]:\n",
    "        D,V = eig(Bg) # Right Eigenvalue decomposition\n",
    "        i1 = np.argmax(np.real(D)) # Max real eigenvalue\n",
    "        v1=V[:,i1]\n",
    "        S=np.ones((Ng,1))\n",
    "        S[v1<0]=-1 # flip for negative eigenvector elements \n",
    "        q=np.matmul(np.matmul(S.T,Bg),S); # modularity measure\n",
    "        if q>1e-10: # tolerance\n",
    "            qmax = q;\n",
    "            Bg[np.eye(Ng)==1] = 0\n",
    "            indg = np.ones((Ng,1))\n",
    "            Sit = S\n",
    "            while np.any(~np.isnan(indg)):\n",
    "                Qit = qmax - 4*Sit*np.matmul(Bg,Sit) \n",
    "                qmax = np.nanmax(Qit*indg)\n",
    "                imax = np.nanargmax(Qit*indg)\n",
    "                Sit[imax]=-Sit[imax]\n",
    "                indg[imax]=np.NaN;             \n",
    "                if qmax>q:              \n",
    "                    q=qmax                \n",
    "                    S=Sit\n",
    "            if np.abs(np.sum(S))==Ng:\n",
    "                U[0]=0\n",
    "            else:\n",
    "                cn=cn+1\n",
    "                Ci[ind[S.flatten()==1]]=U[0]\n",
    "                Ci[ind[S.flatten()==1]]=cn\n",
    "                U = [cn,U]\n",
    "        else:\n",
    "            U[0] = 0\n",
    "        ind = np.arange(N)[Ci.flatten()==U[0]]\n",
    "        bg = B[ind,:][:,ind]\n",
    "        Bg = bg-np.diag(np.sum(bg,axis=0))\n",
    "        Ng = ind.shape[0]\n",
    "    s = Ci[:,[0]*N]\n",
    "    Q =((s-s.T)==0)*B/m\n",
    "    Q = np.sum(Q)\n",
    "    return Ci,Q"
   ]
  },
  {
   "cell_type": "code",
   "execution_count": 3,
   "metadata": {},
   "outputs": [
    {
     "data": {
      "image/png": "[encoded data removed]",
      "text/plain": [
       "<Figure size 216x216 with 1 Axes>"
      ]
     },
     "metadata": {
      "needs_background": "light"
     },
     "output_type": "display_data"
    }
   ],
   "source": [
    "np.random.seed(63646)\n",
    "n = 30\n",
    "target_p = 0.2\n",
    "p = np.min(np.roots([-1,2,-target_p]))\n",
    "A = np.random.choice([0,1],p=[1-p,p],size=(n,n))\n",
    "A = np.int32((A+A.T)>0)\n",
    "Ci,Q = modularity(1-A,1)\n",
    "order = np.argsort(Ci.flatten())\n",
    "module = Ci.flatten()\n",
    "plt.figure(figsize=(3,3))\n",
    "plt.imshow(A[order,:][:,order],aspect='equal',cmap=plt.cm.inferno)\n",
    "plt.clim(-0.2,1.2)\n",
    "plt.xticks(np.arange(30),[f\"{x:.0f}\" for x in np.sort(module)])\n",
    "plt.xlabel('Community Number')\n",
    "plt.yticks(np.arange(30),[f\"{x:.0f}\" for x in np.sort(module)],rotation=90)\n",
    "plt.ylabel('Community Number')\n",
    "plt.show()"
   ]
  }
 ],
 "metadata": {
  "kernelspec": {
   "display_name": "Python (tensorflow)",
   "language": "python",
   "name": "tensorflow"
  },
  "language_info": {
   "codemirror_mode": {
    "name": "ipython",
    "version": 3
   },
   "file_extension": ".py",
   "mimetype": "text/x-python",
   "name": "python",
   "nbconvert_exporter": "python",
   "pygments_lexer": "ipython3",
   "version": "3.6.8"
  }
 },
 "nbformat": 4,
 "nbformat_minor": 4
}
